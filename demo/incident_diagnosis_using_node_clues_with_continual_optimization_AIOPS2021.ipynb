{
 "cells": [
  {
   "cell_type": "markdown",
   "metadata": {},
   "source": [
    "# Incident Diagnosis Using Node Clues with Continual Optimization - AIOPS2021\n",
    "\n",
    "This notebook demonstrates an advanced incident diagnosis approach that uses node-based clues (like alert counts) combined with continual optimization to improve root cause localization accuracy over time.\n",
    "\n",
    "**Key Features:**\n",
    "- Uses node clues (AlertCount) for initial diagnosis\n",
    "- Implements continual learning through optimization when predictions fail\n",
    "- Evaluates performance across different data splits\n",
    "- Compares optimized approach with baseline AlertCount method\n",
    "\n",
    "**Dataset:** AIOPS2021 competition dataset\n",
    "**Evaluation Metric:** A@1 (Accuracy at rank 1)"
   ]
  },
  {
   "cell_type": "markdown",
   "metadata": {},
   "source": [
    "## Step 1: Import Required Libraries\n",
    "\n",
    "Import all necessary libraries for data processing, machine learning, graph analysis, and the custom incident diagnosis modules."
   ]
  },
  {
   "cell_type": "code",
   "execution_count": 1,
   "metadata": {},
   "outputs": [
    {
     "name": "stderr",
     "output_type": "stream",
     "text": [
      "/home/user/anaconda3/envs/pilot/lib/python3.8/site-packages/tqdm/auto.py:21: TqdmWarning: IProgress not found. Please update jupyter and ipywidgets. See https://ipywidgets.readthedocs.io/en/stable/user_install.html\n",
      "  from .autonotebook import tqdm as notebook_tqdm\n"
     ]
    }
   ],
   "source": [
    "# Data processing and visualization\n",
    "import pandas as pd\n",
    "import matplotlib.pyplot as plt\n",
    "import os\n",
    "import json\n",
    "from tqdm import tqdm\n",
    "import numpy as np\n",
    "import pickle\n",
    "\n",
    "# PyTorch Geometric for graph data handling\n",
    "from torch_geometric.data import Data, DataLoader\n",
    "import torch\n",
    "\n",
    "# Parallel processing and optimization\n",
    "from joblib import Parallel, delayed\n",
    "import networkx as nx\n",
    "import math\n",
    "import optuna  # Hyperparameter optimization framework\n",
    "\n",
    "# Custom incident diagnosis modules\n",
    "import sys\n",
    "sys.path.append('../src')\n",
    "from incident_diagnosis.incident_diagnosis import root_cause_localization, explain, optimize, get_weight_from_edge_info"
   ]
  },
  {
   "cell_type": "markdown",
   "metadata": {},
   "source": [
    "## Step 2: Load AIOPS2021 Dataset\n",
    "\n",
    "Load the preprocessed incident topologies from the AIOPS2021 dataset. Each topology contains:\n",
    "- Network structure with nodes and edges\n",
    "- Node features (like AlertCount)\n",
    "- Ground truth root cause labels"
   ]
  },
  {
   "cell_type": "code",
   "execution_count": 2,
   "metadata": {},
   "outputs": [],
   "source": [
    "# Load the AIOPS2021 incident topology dataset\n",
    "# This contains labeled incidents with known root causes for evaluation\n",
    "with open('../data/AIOPS2021.pkl', 'rb') as f:\n",
    "    incident_topologies = pickle.load(f)"
   ]
  },
  {
   "cell_type": "markdown",
   "metadata": {},
   "source": [
    "## Step 3: Verify Dataset Size\n",
    "\n",
    "Check the number of incident cases loaded to ensure data integrity."
   ]
  },
  {
   "cell_type": "code",
   "execution_count": 3,
   "metadata": {},
   "outputs": [
    {
     "data": {
      "text/plain": [
       "133"
      ]
     },
     "execution_count": 3,
     "metadata": {},
     "output_type": "execute_result"
    }
   ],
   "source": [
    "# Display the total number of incident cases in the dataset\n",
    "len(incident_topologies)"
   ]
  },
  {
   "cell_type": "markdown",
   "metadata": {},
   "source": [
    "## Step 4: Configure Continual Learning Parameters\n",
    "\n",
    "Set up the initial configuration for the continual learning approach:\n",
    "- **init_clue_tag**: Starting clue type for diagnosis\n",
    "- **node_clue_tags**: List of node-level features to use\n",
    "- **edge_clue_tags**: List of edge-level features (empty in this case)\n",
    "- **edge_backward_factor**: Weight for backward propagation in the graph"
   ]
  },
  {
   "cell_type": "code",
   "execution_count": 4,
   "metadata": {},
   "outputs": [],
   "source": [
    "import logging\n",
    "\n",
    "# Suppress verbose optimization logs to keep output clean\n",
    "optuna.logging.set_verbosity(optuna.logging.WARNING)\n",
    "\n",
    "# Initialize diagnosis configuration\n",
    "init_clue_tag = 'AlertCount'  # Primary clue type for initial diagnosis\n",
    "node_clue_tags = ['AlertCount']  # Node-level features to consider\n",
    "edge_clue_tags = []  # Edge-level features (none used here)\n",
    "\n",
    "# Initialize weight dictionary for different clue types\n",
    "a = {}\n",
    "for clue_tag in edge_clue_tags:\n",
    "    a[clue_tag] = 1\n",
    "for clue_tag in node_clue_tags:\n",
    "    a[clue_tag] = 1\n",
    "\n",
    "# Configuration for graph-based diagnosis\n",
    "get_edge_weight = None  # No custom edge weighting function\n",
    "edge_backward_factor = 0.3  # Factor for backward propagation in graph"
   ]
  },
  {
   "cell_type": "markdown",
   "metadata": {},
   "source": [
    "## Step 5: Continual Learning Loop\n",
    "\n",
    "This is the core of the continual optimization approach:\n",
    "1. **Predict**: Use current model to diagnose each incident\n",
    "2. **Evaluate**: Check if prediction matches ground truth\n",
    "3. **Optimize**: If prediction fails, update model parameters using all cases seen so far\n",
    "\n",
    "This creates an online learning system that improves with each misclassification."
   ]
  },
  {
   "cell_type": "code",
   "execution_count": 5,
   "metadata": {},
   "outputs": [
    {
     "name": "stderr",
     "output_type": "stream",
     "text": [
      "100%|██████████| 100/100 [00:01<00:00, 54.47it/s]\n"
     ]
    },
    {
     "name": "stdout",
     "output_type": "stream",
     "text": [
      "best trial: FrozenTrial(number=73, state=TrialState.COMPLETE, values=[0.8333333333333334, 1.0], datetime_start=datetime.datetime(2025, 6, 4, 13, 37, 40, 704098), datetime_complete=datetime.datetime(2025, 6, 4, 13, 37, 40, 723261), params={'a:AlertCount': 0.008428739408411101, 'a:OSLinux-OSLinux_LOCALDISK_LOCALDISK-sdb_DSKRead': 0.7767187040175068}, user_attrs={}, system_attrs={}, intermediate_values={}, distributions={'a:AlertCount': FloatDistribution(high=5.0, log=False, low=0.0, step=None), 'a:OSLinux-OSLinux_LOCALDISK_LOCALDISK-sdb_DSKRead': FloatDistribution(high=5.0, log=False, low=0.0, step=None)}, trial_id=73, value=None)\n",
      "A better solution found\n",
      "a: {'AlertCount': 0.008428739408411101, 'OSLinux-OSLinux_LOCALDISK_LOCALDISK-sdb_DSKRead': 0.7767187040175068}\n"
     ]
    },
    {
     "name": "stderr",
     "output_type": "stream",
     "text": [
      "100%|██████████| 100/100 [00:02<00:00, 38.68it/s]\n"
     ]
    },
    {
     "name": "stdout",
     "output_type": "stream",
     "text": [
      "best trial: FrozenTrial(number=0, state=TrialState.COMPLETE, values=[0.5882352941176471, 1], datetime_start=datetime.datetime(2025, 6, 4, 13, 37, 41, 330669), datetime_complete=datetime.datetime(2025, 6, 4, 13, 37, 41, 330669), params={'a:AlertCount': 1, 'a:OSLinux-OSLinux_LOCALDISK_LOCALDISK-sdb_DSKRead': 0, 'a:JVM-Operating System_7779_JVM_JVM_CPULoad': 0}, user_attrs={}, system_attrs={}, intermediate_values={}, distributions={'a:AlertCount': FloatDistribution(high=5.0, log=False, low=0.0, step=None), 'a:OSLinux-OSLinux_LOCALDISK_LOCALDISK-sdb_DSKRead': FloatDistribution(high=5.0, log=False, low=0.0, step=None), 'a:JVM-Operating System_7779_JVM_JVM_CPULoad': FloatDistribution(high=5.0, log=False, low=0.0, step=None)}, trial_id=0, value=None)\n",
      "a: {'AlertCount': 1, 'OSLinux-OSLinux_LOCALDISK_LOCALDISK-sdb_DSKRead': 0, 'JVM-Operating System_7779_JVM_JVM_CPULoad': 0}\n"
     ]
    },
    {
     "name": "stderr",
     "output_type": "stream",
     "text": [
      "100%|██████████| 100/100 [00:03<00:00, 29.63it/s]\n"
     ]
    },
    {
     "name": "stdout",
     "output_type": "stream",
     "text": [
      "best trial: FrozenTrial(number=90, state=TrialState.COMPLETE, values=[0.6111111111111112, 2.746827572678805], datetime_start=datetime.datetime(2025, 6, 4, 13, 37, 46, 870983), datetime_complete=datetime.datetime(2025, 6, 4, 13, 37, 46, 908331), params={'a:AlertCount': 0.5951518262529558, 'a:OSLinux-OSLinux_LOCALDISK_LOCALDISK-sdb_DSKRead': 0.49555306058886855, 'a:JVM-Operating System_7779_JVM_JVM_CPULoad': 0.7443333197061959, 'a:OSLinux-OSLinux_LOCALDISK_LOCALDISK-sda_DSKTps': 0.9117893661307849}, user_attrs={}, system_attrs={}, intermediate_values={}, distributions={'a:AlertCount': FloatDistribution(high=5.0, log=False, low=0.0, step=None), 'a:OSLinux-OSLinux_LOCALDISK_LOCALDISK-sdb_DSKRead': FloatDistribution(high=5.0, log=False, low=0.0, step=None), 'a:JVM-Operating System_7779_JVM_JVM_CPULoad': FloatDistribution(high=5.0, log=False, low=0.0, step=None), 'a:OSLinux-OSLinux_LOCALDISK_LOCALDISK-sda_DSKTps': FloatDistribution(high=5.0, log=False, low=0.0, step=None)}, trial_id=90, value=None)\n",
      "A better solution found\n",
      "a: {'AlertCount': 0.5951518262529558, 'OSLinux-OSLinux_LOCALDISK_LOCALDISK-sdb_DSKRead': 0.49555306058886855, 'JVM-Operating System_7779_JVM_JVM_CPULoad': 0.7443333197061959, 'OSLinux-OSLinux_LOCALDISK_LOCALDISK-sda_DSKTps': 0.9117893661307849}\n"
     ]
    },
    {
     "name": "stderr",
     "output_type": "stream",
     "text": [
      "100%|██████████| 100/100 [00:04<00:00, 21.49it/s]\n"
     ]
    },
    {
     "name": "stdout",
     "output_type": "stream",
     "text": [
      "best trial: FrozenTrial(number=46, state=TrialState.COMPLETE, values=[0.6666666666666666, 7.693714699433357], datetime_start=datetime.datetime(2025, 6, 4, 13, 37, 49, 252814), datetime_complete=datetime.datetime(2025, 6, 4, 13, 37, 49, 299032), params={'a:AlertCount': 0.6364573260296996, 'a:OSLinux-OSLinux_LOCALDISK_LOCALDISK-sdb_DSKRead': 3.6341649616933878, 'a:JVM-Operating System_7779_JVM_JVM_CPULoad': 1.1799948682528518, 'a:OSLinux-OSLinux_LOCALDISK_LOCALDISK-sda_DSKTps': 0.812065432275479, 'a:OSLinux-OSLinux_LOCALDISK_LOCALDISK-sdb_DSKPercentBusy': 1.431032111181939}, user_attrs={}, system_attrs={}, intermediate_values={}, distributions={'a:AlertCount': FloatDistribution(high=5.0, log=False, low=0.0, step=None), 'a:OSLinux-OSLinux_LOCALDISK_LOCALDISK-sdb_DSKRead': FloatDistribution(high=5.0, log=False, low=0.0, step=None), 'a:JVM-Operating System_7779_JVM_JVM_CPULoad': FloatDistribution(high=5.0, log=False, low=0.0, step=None), 'a:OSLinux-OSLinux_LOCALDISK_LOCALDISK-sda_DSKTps': FloatDistribution(high=5.0, log=False, low=0.0, step=None), 'a:OSLinux-OSLinux_LOCALDISK_LOCALDISK-sdb_DSKPercentBusy': FloatDistribution(high=5.0, log=False, low=0.0, step=None)}, trial_id=46, value=None)\n",
      "A better solution found\n",
      "a: {'AlertCount': 0.6364573260296996, 'OSLinux-OSLinux_LOCALDISK_LOCALDISK-sdb_DSKRead': 3.6341649616933878, 'JVM-Operating System_7779_JVM_JVM_CPULoad': 1.1799948682528518, 'OSLinux-OSLinux_LOCALDISK_LOCALDISK-sda_DSKTps': 0.812065432275479, 'OSLinux-OSLinux_LOCALDISK_LOCALDISK-sdb_DSKPercentBusy': 1.431032111181939}\n"
     ]
    },
    {
     "name": "stderr",
     "output_type": "stream",
     "text": [
      "100%|██████████| 100/100 [00:06<00:00, 15.49it/s]\n"
     ]
    },
    {
     "name": "stdout",
     "output_type": "stream",
     "text": [
      "best trial: FrozenTrial(number=68, state=TrialState.COMPLETE, values=[0.71875, 3.985230156021407], datetime_start=datetime.datetime(2025, 6, 4, 13, 37, 56, 226818), datetime_complete=datetime.datetime(2025, 6, 4, 13, 37, 56, 293800), params={'a:AlertCount': 0.547274489769302, 'a:OSLinux-OSLinux_LOCALDISK_LOCALDISK-sdb_DSKRead': 0.382232720797675, 'a:JVM-Operating System_7779_JVM_JVM_CPULoad': 0.600102556289185, 'a:OSLinux-OSLinux_LOCALDISK_LOCALDISK-sda_DSKTps': 0.7614948972779474, 'a:OSLinux-OSLinux_LOCALDISK_LOCALDISK-sdb_DSKPercentBusy': 0.9563042926877249, 'a:ig_post': 0.7378211991995727}, user_attrs={}, system_attrs={}, intermediate_values={}, distributions={'a:AlertCount': FloatDistribution(high=5.0, log=False, low=0.0, step=None), 'a:OSLinux-OSLinux_LOCALDISK_LOCALDISK-sdb_DSKRead': FloatDistribution(high=5.0, log=False, low=0.0, step=None), 'a:JVM-Operating System_7779_JVM_JVM_CPULoad': FloatDistribution(high=5.0, log=False, low=0.0, step=None), 'a:OSLinux-OSLinux_LOCALDISK_LOCALDISK-sda_DSKTps': FloatDistribution(high=5.0, log=False, low=0.0, step=None), 'a:OSLinux-OSLinux_LOCALDISK_LOCALDISK-sdb_DSKPercentBusy': FloatDistribution(high=5.0, log=False, low=0.0, step=None), 'a:ig_post': FloatDistribution(high=5.0, log=False, low=0.0, step=None)}, trial_id=68, value=None)\n",
      "a: {'AlertCount': 0.547274489769302, 'OSLinux-OSLinux_LOCALDISK_LOCALDISK-sdb_DSKRead': 0.382232720797675, 'JVM-Operating System_7779_JVM_JVM_CPULoad': 0.600102556289185, 'OSLinux-OSLinux_LOCALDISK_LOCALDISK-sda_DSKTps': 0.7614948972779474, 'OSLinux-OSLinux_LOCALDISK_LOCALDISK-sdb_DSKPercentBusy': 0.9563042926877249, 'ig_post': 0.7378211991995727}\n"
     ]
    },
    {
     "name": "stderr",
     "output_type": "stream",
     "text": [
      "100%|██████████| 100/100 [00:11<00:00,  8.58it/s]\n"
     ]
    },
    {
     "name": "stdout",
     "output_type": "stream",
     "text": [
      "best trial: FrozenTrial(number=1, state=TrialState.COMPLETE, values=[0.8, 3.985230156021407], datetime_start=datetime.datetime(2025, 6, 4, 13, 37, 58, 869131), datetime_complete=datetime.datetime(2025, 6, 4, 13, 37, 58, 869131), params={'a:AlertCount': 0.547274489769302, 'a:OSLinux-OSLinux_LOCALDISK_LOCALDISK-sdb_DSKRead': 0.382232720797675, 'a:JVM-Operating System_7779_JVM_JVM_CPULoad': 0.600102556289185, 'a:OSLinux-OSLinux_LOCALDISK_LOCALDISK-sda_DSKTps': 0.7614948972779474, 'a:OSLinux-OSLinux_LOCALDISK_LOCALDISK-sdb_DSKPercentBusy': 0.9563042926877249, 'a:ig_post': 0.7378211991995727, 'a:OSLinux-OSLinux_LOCALDISK_LOCALDISK-sdb_DSKWrite': 0}, user_attrs={}, system_attrs={}, intermediate_values={}, distributions={'a:AlertCount': FloatDistribution(high=5.0, log=False, low=0.0, step=None), 'a:OSLinux-OSLinux_LOCALDISK_LOCALDISK-sdb_DSKRead': FloatDistribution(high=5.0, log=False, low=0.0, step=None), 'a:JVM-Operating System_7779_JVM_JVM_CPULoad': FloatDistribution(high=5.0, log=False, low=0.0, step=None), 'a:OSLinux-OSLinux_LOCALDISK_LOCALDISK-sda_DSKTps': FloatDistribution(high=5.0, log=False, low=0.0, step=None), 'a:OSLinux-OSLinux_LOCALDISK_LOCALDISK-sdb_DSKPercentBusy': FloatDistribution(high=5.0, log=False, low=0.0, step=None), 'a:ig_post': FloatDistribution(high=5.0, log=False, low=0.0, step=None), 'a:OSLinux-OSLinux_LOCALDISK_LOCALDISK-sdb_DSKWrite': FloatDistribution(high=5.0, log=False, low=0.0, step=None)}, trial_id=1, value=None)\n",
      "a: {'AlertCount': 0.547274489769302, 'OSLinux-OSLinux_LOCALDISK_LOCALDISK-sdb_DSKRead': 0.382232720797675, 'JVM-Operating System_7779_JVM_JVM_CPULoad': 0.600102556289185, 'OSLinux-OSLinux_LOCALDISK_LOCALDISK-sda_DSKTps': 0.7614948972779474, 'OSLinux-OSLinux_LOCALDISK_LOCALDISK-sdb_DSKPercentBusy': 0.9563042926877249, 'ig_post': 0.7378211991995727, 'OSLinux-OSLinux_LOCALDISK_LOCALDISK-sdb_DSKWrite': 0}\n"
     ]
    },
    {
     "name": "stderr",
     "output_type": "stream",
     "text": [
      "100%|██████████| 100/100 [00:16<00:00,  6.17it/s]\n"
     ]
    },
    {
     "name": "stdout",
     "output_type": "stream",
     "text": [
      "best trial: FrozenTrial(number=1, state=TrialState.COMPLETE, values=[0.8313253012048193, 3.985230156021407], datetime_start=datetime.datetime(2025, 6, 4, 13, 38, 10, 831301), datetime_complete=datetime.datetime(2025, 6, 4, 13, 38, 10, 831301), params={'a:AlertCount': 0.547274489769302, 'a:OSLinux-OSLinux_LOCALDISK_LOCALDISK-sdb_DSKRead': 0.382232720797675, 'a:JVM-Operating System_7779_JVM_JVM_CPULoad': 0.600102556289185, 'a:OSLinux-OSLinux_LOCALDISK_LOCALDISK-sda_DSKTps': 0.7614948972779474, 'a:OSLinux-OSLinux_LOCALDISK_LOCALDISK-sdb_DSKPercentBusy': 0.9563042926877249, 'a:ig_post': 0.7378211991995727, 'a:OSLinux-OSLinux_LOCALDISK_LOCALDISK-sdb_DSKWrite': 0, 'a:severe': 0}, user_attrs={}, system_attrs={}, intermediate_values={}, distributions={'a:AlertCount': FloatDistribution(high=5.0, log=False, low=0.0, step=None), 'a:OSLinux-OSLinux_LOCALDISK_LOCALDISK-sdb_DSKRead': FloatDistribution(high=5.0, log=False, low=0.0, step=None), 'a:JVM-Operating System_7779_JVM_JVM_CPULoad': FloatDistribution(high=5.0, log=False, low=0.0, step=None), 'a:OSLinux-OSLinux_LOCALDISK_LOCALDISK-sda_DSKTps': FloatDistribution(high=5.0, log=False, low=0.0, step=None), 'a:OSLinux-OSLinux_LOCALDISK_LOCALDISK-sdb_DSKPercentBusy': FloatDistribution(high=5.0, log=False, low=0.0, step=None), 'a:ig_post': FloatDistribution(high=5.0, log=False, low=0.0, step=None), 'a:OSLinux-OSLinux_LOCALDISK_LOCALDISK-sdb_DSKWrite': FloatDistribution(high=5.0, log=False, low=0.0, step=None), 'a:severe': FloatDistribution(high=5.0, log=False, low=0.0, step=None)}, trial_id=1, value=None)\n",
      "a: {'AlertCount': 0.547274489769302, 'OSLinux-OSLinux_LOCALDISK_LOCALDISK-sdb_DSKRead': 0.382232720797675, 'JVM-Operating System_7779_JVM_JVM_CPULoad': 0.600102556289185, 'OSLinux-OSLinux_LOCALDISK_LOCALDISK-sda_DSKTps': 0.7614948972779474, 'OSLinux-OSLinux_LOCALDISK_LOCALDISK-sdb_DSKPercentBusy': 0.9563042926877249, 'ig_post': 0.7378211991995727, 'OSLinux-OSLinux_LOCALDISK_LOCALDISK-sdb_DSKWrite': 0, 'severe': 0}\n"
     ]
    },
    {
     "name": "stderr",
     "output_type": "stream",
     "text": [
      "100%|██████████| 100/100 [00:18<00:00,  5.44it/s]\n"
     ]
    },
    {
     "name": "stdout",
     "output_type": "stream",
     "text": [
      "best trial: FrozenTrial(number=1, state=TrialState.COMPLETE, values=[0.8314606741573034, 3.985230156021407], datetime_start=datetime.datetime(2025, 6, 4, 13, 38, 27, 358004), datetime_complete=datetime.datetime(2025, 6, 4, 13, 38, 27, 358004), params={'a:AlertCount': 0.547274489769302, 'a:OSLinux-OSLinux_LOCALDISK_LOCALDISK-sdb_DSKRead': 0.382232720797675, 'a:JVM-Operating System_7779_JVM_JVM_CPULoad': 0.600102556289185, 'a:OSLinux-OSLinux_LOCALDISK_LOCALDISK-sda_DSKTps': 0.7614948972779474, 'a:OSLinux-OSLinux_LOCALDISK_LOCALDISK-sdb_DSKPercentBusy': 0.9563042926877249, 'a:ig_post': 0.7378211991995727, 'a:OSLinux-OSLinux_LOCALDISK_LOCALDISK-sdb_DSKWrite': 0, 'a:severe': 0, 'a:OSLinux-OSLinux_LOCALDISK_LOCALDISK-sdb_DSKWTps': 0}, user_attrs={}, system_attrs={}, intermediate_values={}, distributions={'a:AlertCount': FloatDistribution(high=5.0, log=False, low=0.0, step=None), 'a:OSLinux-OSLinux_LOCALDISK_LOCALDISK-sdb_DSKRead': FloatDistribution(high=5.0, log=False, low=0.0, step=None), 'a:JVM-Operating System_7779_JVM_JVM_CPULoad': FloatDistribution(high=5.0, log=False, low=0.0, step=None), 'a:OSLinux-OSLinux_LOCALDISK_LOCALDISK-sda_DSKTps': FloatDistribution(high=5.0, log=False, low=0.0, step=None), 'a:OSLinux-OSLinux_LOCALDISK_LOCALDISK-sdb_DSKPercentBusy': FloatDistribution(high=5.0, log=False, low=0.0, step=None), 'a:ig_post': FloatDistribution(high=5.0, log=False, low=0.0, step=None), 'a:OSLinux-OSLinux_LOCALDISK_LOCALDISK-sdb_DSKWrite': FloatDistribution(high=5.0, log=False, low=0.0, step=None), 'a:severe': FloatDistribution(high=5.0, log=False, low=0.0, step=None), 'a:OSLinux-OSLinux_LOCALDISK_LOCALDISK-sdb_DSKWTps': FloatDistribution(high=5.0, log=False, low=0.0, step=None)}, trial_id=1, value=None)\n",
      "a: {'AlertCount': 0.547274489769302, 'OSLinux-OSLinux_LOCALDISK_LOCALDISK-sdb_DSKRead': 0.382232720797675, 'JVM-Operating System_7779_JVM_JVM_CPULoad': 0.600102556289185, 'OSLinux-OSLinux_LOCALDISK_LOCALDISK-sda_DSKTps': 0.7614948972779474, 'OSLinux-OSLinux_LOCALDISK_LOCALDISK-sdb_DSKPercentBusy': 0.9563042926877249, 'ig_post': 0.7378211991995727, 'OSLinux-OSLinux_LOCALDISK_LOCALDISK-sdb_DSKWrite': 0, 'severe': 0, 'OSLinux-OSLinux_LOCALDISK_LOCALDISK-sdb_DSKWTps': 0}\n"
     ]
    },
    {
     "name": "stderr",
     "output_type": "stream",
     "text": [
      "100%|██████████| 100/100 [00:20<00:00,  4.80it/s]\n"
     ]
    },
    {
     "name": "stdout",
     "output_type": "stream",
     "text": [
      "best trial: FrozenTrial(number=82, state=TrialState.COMPLETE, values=[0.8350515463917526, 14.318742164322975], datetime_start=datetime.datetime(2025, 6, 4, 13, 39, 2, 307172), datetime_complete=datetime.datetime(2025, 6, 4, 13, 39, 2, 524650), params={'a:AlertCount': 1.2387638882250087, 'a:OSLinux-OSLinux_LOCALDISK_LOCALDISK-sdb_DSKRead': 0.6055077542892814, 'a:JVM-Operating System_7779_JVM_JVM_CPULoad': 2.0232380163735817, 'a:OSLinux-OSLinux_LOCALDISK_LOCALDISK-sda_DSKTps': 0.3528424159508297, 'a:OSLinux-OSLinux_LOCALDISK_LOCALDISK-sdb_DSKPercentBusy': 1.2951392412742593, 'a:ig_post': 4.224479929559377, 'a:OSLinux-OSLinux_LOCALDISK_LOCALDISK-sdb_DSKWrite': 0.3061519665418823, 'a:severe': 3.9773045895561054, 'a:OSLinux-OSLinux_LOCALDISK_LOCALDISK-sdb_DSKWTps': 0.13916339024266688, 'a:OSLinux-OSLinux_NETWORK_NETWORK_TCP-FIN-WAIT': 0.1561509723099836}, user_attrs={}, system_attrs={}, intermediate_values={}, distributions={'a:AlertCount': FloatDistribution(high=5.0, log=False, low=0.0, step=None), 'a:OSLinux-OSLinux_LOCALDISK_LOCALDISK-sdb_DSKRead': FloatDistribution(high=5.0, log=False, low=0.0, step=None), 'a:JVM-Operating System_7779_JVM_JVM_CPULoad': FloatDistribution(high=5.0, log=False, low=0.0, step=None), 'a:OSLinux-OSLinux_LOCALDISK_LOCALDISK-sda_DSKTps': FloatDistribution(high=5.0, log=False, low=0.0, step=None), 'a:OSLinux-OSLinux_LOCALDISK_LOCALDISK-sdb_DSKPercentBusy': FloatDistribution(high=5.0, log=False, low=0.0, step=None), 'a:ig_post': FloatDistribution(high=5.0, log=False, low=0.0, step=None), 'a:OSLinux-OSLinux_LOCALDISK_LOCALDISK-sdb_DSKWrite': FloatDistribution(high=5.0, log=False, low=0.0, step=None), 'a:severe': FloatDistribution(high=5.0, log=False, low=0.0, step=None), 'a:OSLinux-OSLinux_LOCALDISK_LOCALDISK-sdb_DSKWTps': FloatDistribution(high=5.0, log=False, low=0.0, step=None), 'a:OSLinux-OSLinux_NETWORK_NETWORK_TCP-FIN-WAIT': FloatDistribution(high=5.0, log=False, low=0.0, step=None)}, trial_id=82, value=None)\n",
      "A better solution found\n",
      "a: {'AlertCount': 1.2387638882250087, 'OSLinux-OSLinux_LOCALDISK_LOCALDISK-sdb_DSKRead': 0.6055077542892814, 'JVM-Operating System_7779_JVM_JVM_CPULoad': 2.0232380163735817, 'OSLinux-OSLinux_LOCALDISK_LOCALDISK-sda_DSKTps': 0.3528424159508297, 'OSLinux-OSLinux_LOCALDISK_LOCALDISK-sdb_DSKPercentBusy': 1.2951392412742593, 'ig_post': 4.224479929559377, 'OSLinux-OSLinux_LOCALDISK_LOCALDISK-sdb_DSKWrite': 0.3061519665418823, 'severe': 3.9773045895561054, 'OSLinux-OSLinux_LOCALDISK_LOCALDISK-sdb_DSKWTps': 0.13916339024266688, 'OSLinux-OSLinux_NETWORK_NETWORK_TCP-FIN-WAIT': 0.1561509723099836}\n"
     ]
    },
    {
     "name": "stderr",
     "output_type": "stream",
     "text": [
      "100%|██████████| 100/100 [00:26<00:00,  3.83it/s]\n"
     ]
    },
    {
     "name": "stdout",
     "output_type": "stream",
     "text": [
      "best trial: FrozenTrial(number=1, state=TrialState.COMPLETE, values=[0.8348623853211009, 14.318742164322975], datetime_start=datetime.datetime(2025, 6, 4, 13, 39, 7, 398491), datetime_complete=datetime.datetime(2025, 6, 4, 13, 39, 7, 398491), params={'a:AlertCount': 1.2387638882250087, 'a:OSLinux-OSLinux_LOCALDISK_LOCALDISK-sdb_DSKRead': 0.6055077542892814, 'a:JVM-Operating System_7779_JVM_JVM_CPULoad': 2.0232380163735817, 'a:OSLinux-OSLinux_LOCALDISK_LOCALDISK-sda_DSKTps': 0.3528424159508297, 'a:OSLinux-OSLinux_LOCALDISK_LOCALDISK-sdb_DSKPercentBusy': 1.2951392412742593, 'a:ig_post': 4.224479929559377, 'a:OSLinux-OSLinux_LOCALDISK_LOCALDISK-sdb_DSKWrite': 0.3061519665418823, 'a:severe': 3.9773045895561054, 'a:OSLinux-OSLinux_LOCALDISK_LOCALDISK-sdb_DSKWTps': 0.13916339024266688, 'a:OSLinux-OSLinux_NETWORK_NETWORK_TCP-FIN-WAIT': 0.1561509723099836}, user_attrs={}, system_attrs={}, intermediate_values={}, distributions={'a:AlertCount': FloatDistribution(high=5.0, log=False, low=0.0, step=None), 'a:OSLinux-OSLinux_LOCALDISK_LOCALDISK-sdb_DSKRead': FloatDistribution(high=5.0, log=False, low=0.0, step=None), 'a:JVM-Operating System_7779_JVM_JVM_CPULoad': FloatDistribution(high=5.0, log=False, low=0.0, step=None), 'a:OSLinux-OSLinux_LOCALDISK_LOCALDISK-sda_DSKTps': FloatDistribution(high=5.0, log=False, low=0.0, step=None), 'a:OSLinux-OSLinux_LOCALDISK_LOCALDISK-sdb_DSKPercentBusy': FloatDistribution(high=5.0, log=False, low=0.0, step=None), 'a:ig_post': FloatDistribution(high=5.0, log=False, low=0.0, step=None), 'a:OSLinux-OSLinux_LOCALDISK_LOCALDISK-sdb_DSKWrite': FloatDistribution(high=5.0, log=False, low=0.0, step=None), 'a:severe': FloatDistribution(high=5.0, log=False, low=0.0, step=None), 'a:OSLinux-OSLinux_LOCALDISK_LOCALDISK-sdb_DSKWTps': FloatDistribution(high=5.0, log=False, low=0.0, step=None), 'a:OSLinux-OSLinux_NETWORK_NETWORK_TCP-FIN-WAIT': FloatDistribution(high=5.0, log=False, low=0.0, step=None)}, trial_id=1, value=None)\n",
      "a: {'AlertCount': 1.2387638882250087, 'OSLinux-OSLinux_LOCALDISK_LOCALDISK-sdb_DSKRead': 0.6055077542892814, 'JVM-Operating System_7779_JVM_JVM_CPULoad': 2.0232380163735817, 'OSLinux-OSLinux_LOCALDISK_LOCALDISK-sda_DSKTps': 0.3528424159508297, 'OSLinux-OSLinux_LOCALDISK_LOCALDISK-sdb_DSKPercentBusy': 1.2951392412742593, 'ig_post': 4.224479929559377, 'OSLinux-OSLinux_LOCALDISK_LOCALDISK-sdb_DSKWrite': 0.3061519665418823, 'severe': 3.9773045895561054, 'OSLinux-OSLinux_LOCALDISK_LOCALDISK-sdb_DSKWTps': 0.13916339024266688, 'OSLinux-OSLinux_NETWORK_NETWORK_TCP-FIN-WAIT': 0.1561509723099836}\n"
     ]
    },
    {
     "name": "stderr",
     "output_type": "stream",
     "text": [
      "100%|██████████| 100/100 [00:31<00:00,  3.17it/s]"
     ]
    },
    {
     "name": "stdout",
     "output_type": "stream",
     "text": [
      "best trial: FrozenTrial(number=22, state=TrialState.COMPLETE, values=[0.8267716535433071, 6.476223985491053], datetime_start=datetime.datetime(2025, 6, 4, 13, 39, 39, 886914), datetime_complete=datetime.datetime(2025, 6, 4, 13, 39, 40, 195793), params={'a:AlertCount': 0.46503665532967553, 'a:OSLinux-OSLinux_LOCALDISK_LOCALDISK-sdb_DSKRead': 0.5924735168814377, 'a:JVM-Operating System_7779_JVM_JVM_CPULoad': 0.5811546871894936, 'a:OSLinux-OSLinux_LOCALDISK_LOCALDISK-sda_DSKTps': 0.7708957831212384, 'a:OSLinux-OSLinux_LOCALDISK_LOCALDISK-sdb_DSKPercentBusy': 0.321977622220258, 'a:ig_post': 0.5657085840642232, 'a:OSLinux-OSLinux_LOCALDISK_LOCALDISK-sdb_DSKWrite': 0.26269341867717433, 'a:severe': 0.054478300562137774, 'a:OSLinux-OSLinux_LOCALDISK_LOCALDISK-sdb_DSKWTps': 1.0106743003797187, 'a:OSLinux-OSLinux_NETWORK_NETWORK_TCP-FIN-WAIT': 0.4011953702888691, 'a:OSLinux-CPU_CPU_CPUUserTime': 1.449935746776827}, user_attrs={}, system_attrs={}, intermediate_values={}, distributions={'a:AlertCount': FloatDistribution(high=5.0, log=False, low=0.0, step=None), 'a:OSLinux-OSLinux_LOCALDISK_LOCALDISK-sdb_DSKRead': FloatDistribution(high=5.0, log=False, low=0.0, step=None), 'a:JVM-Operating System_7779_JVM_JVM_CPULoad': FloatDistribution(high=5.0, log=False, low=0.0, step=None), 'a:OSLinux-OSLinux_LOCALDISK_LOCALDISK-sda_DSKTps': FloatDistribution(high=5.0, log=False, low=0.0, step=None), 'a:OSLinux-OSLinux_LOCALDISK_LOCALDISK-sdb_DSKPercentBusy': FloatDistribution(high=5.0, log=False, low=0.0, step=None), 'a:ig_post': FloatDistribution(high=5.0, log=False, low=0.0, step=None), 'a:OSLinux-OSLinux_LOCALDISK_LOCALDISK-sdb_DSKWrite': FloatDistribution(high=5.0, log=False, low=0.0, step=None), 'a:severe': FloatDistribution(high=5.0, log=False, low=0.0, step=None), 'a:OSLinux-OSLinux_LOCALDISK_LOCALDISK-sdb_DSKWTps': FloatDistribution(high=5.0, log=False, low=0.0, step=None), 'a:OSLinux-OSLinux_NETWORK_NETWORK_TCP-FIN-WAIT': FloatDistribution(high=5.0, log=False, low=0.0, step=None), 'a:OSLinux-CPU_CPU_CPUUserTime': FloatDistribution(high=5.0, log=False, low=0.0, step=None)}, trial_id=22, value=None)\n",
      "a: {'AlertCount': 0.46503665532967553, 'OSLinux-OSLinux_LOCALDISK_LOCALDISK-sdb_DSKRead': 0.5924735168814377, 'JVM-Operating System_7779_JVM_JVM_CPULoad': 0.5811546871894936, 'OSLinux-OSLinux_LOCALDISK_LOCALDISK-sda_DSKTps': 0.7708957831212384, 'OSLinux-OSLinux_LOCALDISK_LOCALDISK-sdb_DSKPercentBusy': 0.321977622220258, 'ig_post': 0.5657085840642232, 'OSLinux-OSLinux_LOCALDISK_LOCALDISK-sdb_DSKWrite': 0.26269341867717433, 'severe': 0.054478300562137774, 'OSLinux-OSLinux_LOCALDISK_LOCALDISK-sdb_DSKWTps': 1.0106743003797187, 'OSLinux-OSLinux_NETWORK_NETWORK_TCP-FIN-WAIT': 0.4011953702888691, 'OSLinux-CPU_CPU_CPUUserTime': 1.449935746776827}\n"
     ]
    },
    {
     "name": "stderr",
     "output_type": "stream",
     "text": [
      "\n"
     ]
    }
   ],
   "source": [
    "# Main continual learning loop\n",
    "for i, case in enumerate(incident_topologies):\n",
    "    \n",
    "    # Step 5.1: Perform root cause localization with current parameters\n",
    "    case['pred_incremental'] = root_cause_localization(\n",
    "        case, node_clue_tags, edge_clue_tags, a, get_edge_weight, edge_backward_factor\n",
    "    )\n",
    "\n",
    "    # Step 5.2: Check if prediction failed (root cause not in predicted set)\n",
    "    if case['root_cause'] not in case['pred_incremental'] and case['pred_incremental'] != 'None':\n",
    "        \n",
    "        # Step 5.3: Optimize parameters using all cases seen so far (continual learning)\n",
    "        # This updates both node_clue_tags and weights (a) based on historical performance\n",
    "        node_clue_tags, a = optimize(\n",
    "            case,                    # Current failed case\n",
    "            node_clue_tags,         # Current node clue configuration\n",
    "            edge_clue_tags,         # Current edge clue configuration\n",
    "            a,                      # Current weight dictionary\n",
    "            get_edge_weight,        # Edge weight function\n",
    "            edge_backward_factor,   # Backward propagation factor\n",
    "            incident_topologies[:i+1],  # All cases seen so far (training set)\n",
    "            init_clue_tag           # Initial clue tag for reference\n",
    "        )"
   ]
  },
  {
   "cell_type": "markdown",
   "metadata": {},
   "source": [
    "## Step 6: Evaluate Continual Learning Results\n",
    "\n",
    "Calculate accuracy metrics for the continual learning approach by checking if the ground truth root cause appears in the predicted candidate set."
   ]
  },
  {
   "cell_type": "code",
   "execution_count": 6,
   "metadata": {},
   "outputs": [],
   "source": [
    "# Mark each case as correct/incorrect based on whether root cause was found\n",
    "for case in incident_topologies:\n",
    "    case['right_incremental'] = case['root_cause'] in case['pred_incremental']"
   ]
  },
  {
   "cell_type": "markdown",
   "metadata": {},
   "source": [
    "## Step 7: Performance Evaluation - Full Dataset\n",
    "\n",
    "Evaluate the continual learning approach on the entire dataset to get overall performance metrics."
   ]
  },
  {
   "cell_type": "code",
   "execution_count": 7,
   "metadata": {},
   "outputs": [
    {
     "name": "stdout",
     "output_type": "stream",
     "text": [
      "True     105.000000\n",
      "False     28.000000\n",
      "A@1        0.789474\n",
      "Name: count, dtype: float64\n"
     ]
    }
   ],
   "source": [
    "# Evaluate performance on the entire dataset (from beginning)\n",
    "test_target = 'incremental'\n",
    "begin_to_test_ratio = 0  # Start from the beginning (0% offset)\n",
    "\n",
    "# Calculate accuracy statistics\n",
    "summary = pd.Series([\n",
    "    case['right_' + test_target] \n",
    "    for case in incident_topologies[int(begin_to_test_ratio * len(incident_topologies)):]\n",
    "]).value_counts()\n",
    "\n",
    "# Calculate A@1 (Accuracy at rank 1) metric\n",
    "summary['A@1'] = summary[True] / (summary[True] + summary[False])\n",
    "print(summary)"
   ]
  },
  {
   "cell_type": "markdown",
   "metadata": {},
   "source": [
    "## Step 8: Performance Evaluation - 30% Split\n",
    "\n",
    "Evaluate performance starting from 30% of the dataset to simulate a scenario where the model has seen some training data."
   ]
  },
  {
   "cell_type": "code",
   "execution_count": 8,
   "metadata": {},
   "outputs": [
    {
     "name": "stdout",
     "output_type": "stream",
     "text": [
      "True     81.000000\n",
      "False    13.000000\n",
      "A@1       0.861702\n",
      "Name: count, dtype: float64\n"
     ]
    }
   ],
   "source": [
    "# Evaluate performance starting from 30% of the dataset\n",
    "test_target = 'incremental'\n",
    "begin_to_test_ratio = 0.3  # Skip first 30% (use as implicit training)\n",
    "\n",
    "# Calculate accuracy on the remaining 70% of data\n",
    "summary = pd.Series([\n",
    "    case['right_' + test_target] \n",
    "    for case in incident_topologies[int(begin_to_test_ratio * len(incident_topologies)):]\n",
    "]).value_counts()\n",
    "\n",
    "summary['A@1'] = summary[True] / (summary[True] + summary[False])\n",
    "print(summary)"
   ]
  },
  {
   "cell_type": "markdown",
   "metadata": {},
   "source": [
    "## Step 9: Performance Evaluation - 60% Split\n",
    "\n",
    "Evaluate performance starting from 60% of the dataset to see how the model performs after extensive training."
   ]
  },
  {
   "cell_type": "code",
   "execution_count": 9,
   "metadata": {},
   "outputs": [
    {
     "name": "stdout",
     "output_type": "stream",
     "text": [
      "True     43.000000\n",
      "False    11.000000\n",
      "A@1       0.796296\n",
      "Name: count, dtype: float64\n"
     ]
    }
   ],
   "source": [
    "# Evaluate performance starting from 60% of the dataset\n",
    "test_target = 'incremental'\n",
    "begin_to_test_ratio = 0.6  # Skip first 60% (use as implicit training)\n",
    "\n",
    "# Calculate accuracy on the remaining 40% of data\n",
    "summary = pd.Series([\n",
    "    case['right_' + test_target] \n",
    "    for case in incident_topologies[int(begin_to_test_ratio * len(incident_topologies)):]\n",
    "]).value_counts()\n",
    "\n",
    "summary['A@1'] = summary[True] / (summary[True] + summary[False])\n",
    "print(summary)"
   ]
  },
  {
   "cell_type": "markdown",
   "metadata": {},
   "source": [
    "## Step 10: Baseline Comparison - AlertCount Only\n",
    "\n",
    "Generate predictions using only the basic AlertCount feature without any optimization for comparison with the continual learning approach."
   ]
  },
  {
   "cell_type": "code",
   "execution_count": 10,
   "metadata": {},
   "outputs": [],
   "source": [
    "# Generate baseline predictions using only AlertCount (no optimization)\n",
    "for case in incident_topologies:\n",
    "    case['pred_alertcount'] = root_cause_localization(\n",
    "        case, \n",
    "        ['AlertCount'],  # Only use AlertCount feature\n",
    "        [],              # No edge clues\n",
    "        None             # No custom weights\n",
    "    )"
   ]
  },
  {
   "cell_type": "markdown",
   "metadata": {},
   "source": [
    "## Step 11: Evaluate Baseline Performance\n",
    "\n",
    "Calculate accuracy metrics for the baseline AlertCount-only approach."
   ]
  },
  {
   "cell_type": "code",
   "execution_count": 11,
   "metadata": {},
   "outputs": [],
   "source": [
    "# Mark baseline predictions as correct/incorrect\n",
    "for case in incident_topologies:\n",
    "    case['right_alertcount'] = case['root_cause'] in case['pred_alertcount']"
   ]
  },
  {
   "cell_type": "markdown",
   "metadata": {},
   "source": [
    "## Step 12: Baseline Performance - Full Dataset\n",
    "\n",
    "Evaluate baseline AlertCount performance on the entire dataset."
   ]
  },
  {
   "cell_type": "code",
   "execution_count": 12,
   "metadata": {},
   "outputs": [
    {
     "name": "stdout",
     "output_type": "stream",
     "text": [
      "True     103.000000\n",
      "False     30.000000\n",
      "A@1        0.774436\n",
      "Name: count, dtype: float64\n"
     ]
    }
   ],
   "source": [
    "# Evaluate baseline performance on entire dataset\n",
    "test_target = 'alertcount'\n",
    "ratio = 0  # Full dataset\n",
    "\n",
    "summary = pd.Series([\n",
    "    case['right_' + test_target] \n",
    "    for case in incident_topologies[int(ratio * len(incident_topologies)):]\n",
    "]).value_counts()\n",
    "\n",
    "summary['A@1'] = summary[True] / (summary[True] + summary[False])\n",
    "print(summary)"
   ]
  },
  {
   "cell_type": "markdown",
   "metadata": {},
   "source": [
    "## Step 13: Baseline Performance - 30% Split\n",
    "\n",
    "Evaluate baseline performance starting from 30% of the dataset for fair comparison."
   ]
  },
  {
   "cell_type": "code",
   "execution_count": 13,
   "metadata": {},
   "outputs": [
    {
     "name": "stdout",
     "output_type": "stream",
     "text": [
      "True     78.000000\n",
      "False    16.000000\n",
      "A@1       0.829787\n",
      "Name: count, dtype: float64\n"
     ]
    }
   ],
   "source": [
    "# Evaluate baseline performance from 30% onwards\n",
    "test_target = 'alertcount'\n",
    "ratio = 0.3\n",
    "\n",
    "summary = pd.Series([\n",
    "    case['right_' + test_target] \n",
    "    for case in incident_topologies[int(ratio * len(incident_topologies)):]\n",
    "]).value_counts()\n",
    "\n",
    "summary['A@1'] = summary[True] / (summary[True] + summary[False])\n",
    "print(summary)"
   ]
  },
  {
   "cell_type": "markdown",
   "metadata": {},
   "source": [
    "## Step 14: Baseline Performance - 60% Split\n",
    "\n",
    "Evaluate baseline performance starting from 60% of the dataset."
   ]
  },
  {
   "cell_type": "code",
   "execution_count": 14,
   "metadata": {},
   "outputs": [
    {
     "name": "stdout",
     "output_type": "stream",
     "text": [
      "True     40.000000\n",
      "False    14.000000\n",
      "A@1       0.740741\n",
      "Name: count, dtype: float64\n"
     ]
    }
   ],
   "source": [
    "# Evaluate baseline performance from 60% onwards\n",
    "test_target = 'alertcount'\n",
    "ratio = 0.6\n",
    "\n",
    "summary = pd.Series([\n",
    "    case['right_' + test_target] \n",
    "    for case in incident_topologies[int(ratio * len(incident_topologies)):]\n",
    "]).value_counts()\n",
    "\n",
    "summary['A@1'] = summary[True] / (summary[True] + summary[False])\n",
    "print(summary)"
   ]
  },
  {
   "cell_type": "markdown",
   "metadata": {},
   "source": [
    "## Step 15: Re-run Continual Learning (Verification)\n",
    "\n",
    "Re-execute the continual learning process to verify consistency and demonstrate the optimization loop."
   ]
  },
  {
   "cell_type": "code",
   "execution_count": 15,
   "metadata": {},
   "outputs": [
    {
     "name": "stderr",
     "output_type": "stream",
     "text": [
      "100%|██████████| 100/100 [00:06<00:00, 14.88it/s]\n"
     ]
    },
    {
     "name": "stdout",
     "output_type": "stream",
     "text": [
      "best trial: FrozenTrial(number=11, state=TrialState.COMPLETE, values=[0.8333333333333334, 6.929056469403173], datetime_start=datetime.datetime(2025, 6, 4, 13, 40, 6, 114160), datetime_complete=datetime.datetime(2025, 6, 4, 13, 40, 6, 171486), params={'a:AlertCount': 0.1941146468820265, 'a:OSLinux-OSLinux_LOCALDISK_LOCALDISK-sdb_DSKRead': 4.996074309726312, 'a:JVM-Operating System_7779_JVM_JVM_CPULoad': 0.09177989693035199, 'a:OSLinux-OSLinux_LOCALDISK_LOCALDISK-sda_DSKTps': 0.029959717654251, 'a:OSLinux-OSLinux_LOCALDISK_LOCALDISK-sdb_DSKPercentBusy': 0.002167078947019063, 'a:ig_post': 1.1434076832621523, 'a:OSLinux-OSLinux_LOCALDISK_LOCALDISK-sdb_DSKWrite': 0.027984140481235542, 'a:severe': 0.1822031374258544, 'a:OSLinux-OSLinux_LOCALDISK_LOCALDISK-sdb_DSKWTps': 0.2210645356266649, 'a:OSLinux-OSLinux_NETWORK_NETWORK_TCP-FIN-WAIT': 0.01576563435537286, 'a:OSLinux-CPU_CPU_CPUUserTime': 0.024535688111932723}, user_attrs={}, system_attrs={}, intermediate_values={}, distributions={'a:AlertCount': FloatDistribution(high=5.0, log=False, low=0.0, step=None), 'a:OSLinux-OSLinux_LOCALDISK_LOCALDISK-sdb_DSKRead': FloatDistribution(high=5.0, log=False, low=0.0, step=None), 'a:JVM-Operating System_7779_JVM_JVM_CPULoad': FloatDistribution(high=5.0, log=False, low=0.0, step=None), 'a:OSLinux-OSLinux_LOCALDISK_LOCALDISK-sda_DSKTps': FloatDistribution(high=5.0, log=False, low=0.0, step=None), 'a:OSLinux-OSLinux_LOCALDISK_LOCALDISK-sdb_DSKPercentBusy': FloatDistribution(high=5.0, log=False, low=0.0, step=None), 'a:ig_post': FloatDistribution(high=5.0, log=False, low=0.0, step=None), 'a:OSLinux-OSLinux_LOCALDISK_LOCALDISK-sdb_DSKWrite': FloatDistribution(high=5.0, log=False, low=0.0, step=None), 'a:severe': FloatDistribution(high=5.0, log=False, low=0.0, step=None), 'a:OSLinux-OSLinux_LOCALDISK_LOCALDISK-sdb_DSKWTps': FloatDistribution(high=5.0, log=False, low=0.0, step=None), 'a:OSLinux-OSLinux_NETWORK_NETWORK_TCP-FIN-WAIT': FloatDistribution(high=5.0, log=False, low=0.0, step=None), 'a:OSLinux-CPU_CPU_CPUUserTime': FloatDistribution(high=5.0, log=False, low=0.0, step=None)}, trial_id=11, value=None)\n",
      "A better solution found\n",
      "a: {'AlertCount': 0.1941146468820265, 'OSLinux-OSLinux_LOCALDISK_LOCALDISK-sdb_DSKRead': 4.996074309726312, 'JVM-Operating System_7779_JVM_JVM_CPULoad': 0.09177989693035199, 'OSLinux-OSLinux_LOCALDISK_LOCALDISK-sda_DSKTps': 0.029959717654251, 'OSLinux-OSLinux_LOCALDISK_LOCALDISK-sdb_DSKPercentBusy': 0.002167078947019063, 'ig_post': 1.1434076832621523, 'OSLinux-OSLinux_LOCALDISK_LOCALDISK-sdb_DSKWrite': 0.027984140481235542, 'severe': 0.1822031374258544, 'OSLinux-OSLinux_LOCALDISK_LOCALDISK-sdb_DSKWTps': 0.2210645356266649, 'OSLinux-OSLinux_NETWORK_NETWORK_TCP-FIN-WAIT': 0.01576563435537286, 'OSLinux-CPU_CPU_CPUUserTime': 0.024535688111932723}\n"
     ]
    },
    {
     "name": "stderr",
     "output_type": "stream",
     "text": [
      "100%|██████████| 100/100 [00:07<00:00, 14.10it/s]\n"
     ]
    },
    {
     "name": "stdout",
     "output_type": "stream",
     "text": [
      "best trial: FrozenTrial(number=20, state=TrialState.COMPLETE, values=[0.6470588235294118, 22.64554775172257], datetime_start=datetime.datetime(2025, 6, 4, 13, 40, 13, 466630), datetime_complete=datetime.datetime(2025, 6, 4, 13, 40, 13, 527396), params={'a:AlertCount': 0.5402965530877424, 'a:OSLinux-OSLinux_LOCALDISK_LOCALDISK-sdb_DSKRead': 4.071782573281549, 'a:JVM-Operating System_7779_JVM_JVM_CPULoad': 1.3281555274581707, 'a:OSLinux-OSLinux_LOCALDISK_LOCALDISK-sda_DSKTps': 2.009952100742306, 'a:OSLinux-OSLinux_LOCALDISK_LOCALDISK-sdb_DSKPercentBusy': 2.5467403260149055, 'a:ig_post': 1.8614974235566586, 'a:OSLinux-OSLinux_LOCALDISK_LOCALDISK-sdb_DSKWrite': 1.283227140193638, 'a:severe': 4.779648946725299, 'a:OSLinux-OSLinux_LOCALDISK_LOCALDISK-sdb_DSKWTps': 1.4533671689664385, 'a:OSLinux-OSLinux_NETWORK_NETWORK_TCP-FIN-WAIT': 1.5217339376978345, 'a:OSLinux-CPU_CPU_CPUUserTime': 1.249146053998031}, user_attrs={}, system_attrs={}, intermediate_values={}, distributions={'a:AlertCount': FloatDistribution(high=5.0, log=False, low=0.0, step=None), 'a:OSLinux-OSLinux_LOCALDISK_LOCALDISK-sdb_DSKRead': FloatDistribution(high=5.0, log=False, low=0.0, step=None), 'a:JVM-Operating System_7779_JVM_JVM_CPULoad': FloatDistribution(high=5.0, log=False, low=0.0, step=None), 'a:OSLinux-OSLinux_LOCALDISK_LOCALDISK-sda_DSKTps': FloatDistribution(high=5.0, log=False, low=0.0, step=None), 'a:OSLinux-OSLinux_LOCALDISK_LOCALDISK-sdb_DSKPercentBusy': FloatDistribution(high=5.0, log=False, low=0.0, step=None), 'a:ig_post': FloatDistribution(high=5.0, log=False, low=0.0, step=None), 'a:OSLinux-OSLinux_LOCALDISK_LOCALDISK-sdb_DSKWrite': FloatDistribution(high=5.0, log=False, low=0.0, step=None), 'a:severe': FloatDistribution(high=5.0, log=False, low=0.0, step=None), 'a:OSLinux-OSLinux_LOCALDISK_LOCALDISK-sdb_DSKWTps': FloatDistribution(high=5.0, log=False, low=0.0, step=None), 'a:OSLinux-OSLinux_NETWORK_NETWORK_TCP-FIN-WAIT': FloatDistribution(high=5.0, log=False, low=0.0, step=None), 'a:OSLinux-CPU_CPU_CPUUserTime': FloatDistribution(high=5.0, log=False, low=0.0, step=None)}, trial_id=20, value=None)\n",
      "A better solution found\n",
      "a: {'AlertCount': 0.5402965530877424, 'OSLinux-OSLinux_LOCALDISK_LOCALDISK-sdb_DSKRead': 4.071782573281549, 'JVM-Operating System_7779_JVM_JVM_CPULoad': 1.3281555274581707, 'OSLinux-OSLinux_LOCALDISK_LOCALDISK-sda_DSKTps': 2.009952100742306, 'OSLinux-OSLinux_LOCALDISK_LOCALDISK-sdb_DSKPercentBusy': 2.5467403260149055, 'ig_post': 1.8614974235566586, 'OSLinux-OSLinux_LOCALDISK_LOCALDISK-sdb_DSKWrite': 1.283227140193638, 'severe': 4.779648946725299, 'OSLinux-OSLinux_LOCALDISK_LOCALDISK-sdb_DSKWTps': 1.4533671689664385, 'OSLinux-OSLinux_NETWORK_NETWORK_TCP-FIN-WAIT': 1.5217339376978345, 'OSLinux-CPU_CPU_CPUUserTime': 1.249146053998031}\n"
     ]
    },
    {
     "name": "stderr",
     "output_type": "stream",
     "text": [
      "100%|██████████| 100/100 [00:08<00:00, 12.26it/s]\n"
     ]
    },
    {
     "name": "stdout",
     "output_type": "stream",
     "text": [
      "best trial: FrozenTrial(number=77, state=TrialState.COMPLETE, values=[0.6666666666666666, 18.244953485509992], datetime_start=datetime.datetime(2025, 6, 4, 13, 40, 25, 681339), datetime_complete=datetime.datetime(2025, 6, 4, 13, 40, 25, 771321), params={'a:AlertCount': 0.3627077272754309, 'a:OSLinux-OSLinux_LOCALDISK_LOCALDISK-sdb_DSKRead': 0.5961264601175463, 'a:JVM-Operating System_7779_JVM_JVM_CPULoad': 0.03687263357559081, 'a:OSLinux-OSLinux_LOCALDISK_LOCALDISK-sda_DSKTps': 2.5075072422414633, 'a:OSLinux-OSLinux_LOCALDISK_LOCALDISK-sdb_DSKPercentBusy': 4.66535440609369, 'a:ig_post': 1.6994206383416026, 'a:OSLinux-OSLinux_LOCALDISK_LOCALDISK-sdb_DSKWrite': 0.5114719368264726, 'a:severe': 0.9467859166976407, 'a:OSLinux-OSLinux_LOCALDISK_LOCALDISK-sdb_DSKWTps': 0.43096539990931737, 'a:OSLinux-OSLinux_NETWORK_NETWORK_TCP-FIN-WAIT': 3.1209400865636776, 'a:OSLinux-CPU_CPU_CPUUserTime': 0.41139721430588294, 'a:JVM-Operating System_7778_JVM_JVM_CPULoad': 2.955403823561677}, user_attrs={}, system_attrs={}, intermediate_values={}, distributions={'a:AlertCount': FloatDistribution(high=5.0, log=False, low=0.0, step=None), 'a:OSLinux-OSLinux_LOCALDISK_LOCALDISK-sdb_DSKRead': FloatDistribution(high=5.0, log=False, low=0.0, step=None), 'a:JVM-Operating System_7779_JVM_JVM_CPULoad': FloatDistribution(high=5.0, log=False, low=0.0, step=None), 'a:OSLinux-OSLinux_LOCALDISK_LOCALDISK-sda_DSKTps': FloatDistribution(high=5.0, log=False, low=0.0, step=None), 'a:OSLinux-OSLinux_LOCALDISK_LOCALDISK-sdb_DSKPercentBusy': FloatDistribution(high=5.0, log=False, low=0.0, step=None), 'a:ig_post': FloatDistribution(high=5.0, log=False, low=0.0, step=None), 'a:OSLinux-OSLinux_LOCALDISK_LOCALDISK-sdb_DSKWrite': FloatDistribution(high=5.0, log=False, low=0.0, step=None), 'a:severe': FloatDistribution(high=5.0, log=False, low=0.0, step=None), 'a:OSLinux-OSLinux_LOCALDISK_LOCALDISK-sdb_DSKWTps': FloatDistribution(high=5.0, log=False, low=0.0, step=None), 'a:OSLinux-OSLinux_NETWORK_NETWORK_TCP-FIN-WAIT': FloatDistribution(high=5.0, log=False, low=0.0, step=None), 'a:OSLinux-CPU_CPU_CPUUserTime': FloatDistribution(high=5.0, log=False, low=0.0, step=None), 'a:JVM-Operating System_7778_JVM_JVM_CPULoad': FloatDistribution(high=5.0, log=False, low=0.0, step=None)}, trial_id=77, value=None)\n",
      "A better solution found\n",
      "a: {'AlertCount': 0.3627077272754309, 'OSLinux-OSLinux_LOCALDISK_LOCALDISK-sdb_DSKRead': 0.5961264601175463, 'JVM-Operating System_7779_JVM_JVM_CPULoad': 0.03687263357559081, 'OSLinux-OSLinux_LOCALDISK_LOCALDISK-sda_DSKTps': 2.5075072422414633, 'OSLinux-OSLinux_LOCALDISK_LOCALDISK-sdb_DSKPercentBusy': 4.66535440609369, 'ig_post': 1.6994206383416026, 'OSLinux-OSLinux_LOCALDISK_LOCALDISK-sdb_DSKWrite': 0.5114719368264726, 'severe': 0.9467859166976407, 'OSLinux-OSLinux_LOCALDISK_LOCALDISK-sdb_DSKWTps': 0.43096539990931737, 'OSLinux-OSLinux_NETWORK_NETWORK_TCP-FIN-WAIT': 3.1209400865636776, 'OSLinux-CPU_CPU_CPUUserTime': 0.41139721430588294, 'JVM-Operating System_7778_JVM_JVM_CPULoad': 2.955403823561677}\n"
     ]
    },
    {
     "name": "stderr",
     "output_type": "stream",
     "text": [
      "100%|██████████| 100/100 [00:10<00:00,  9.99it/s]\n"
     ]
    },
    {
     "name": "stdout",
     "output_type": "stream",
     "text": [
      "best trial: FrozenTrial(number=51, state=TrialState.COMPLETE, values=[0.7096774193548387, 8.870317900616229], datetime_start=datetime.datetime(2025, 6, 4, 13, 40, 32, 543526), datetime_complete=datetime.datetime(2025, 6, 4, 13, 40, 32, 646117), params={'a:AlertCount': 0.97225288482687, 'a:OSLinux-OSLinux_LOCALDISK_LOCALDISK-sdb_DSKRead': 0.5418739000332797, 'a:JVM-Operating System_7779_JVM_JVM_CPULoad': 0.1388234993280597, 'a:OSLinux-OSLinux_LOCALDISK_LOCALDISK-sda_DSKTps': 0.40505438315424636, 'a:OSLinux-OSLinux_LOCALDISK_LOCALDISK-sdb_DSKPercentBusy': 2.6031381690247732, 'a:ig_post': 1.5217405364458585, 'a:OSLinux-OSLinux_LOCALDISK_LOCALDISK-sdb_DSKWrite': 0.5329269064488631, 'a:severe': 0.9248021844760329, 'a:OSLinux-OSLinux_LOCALDISK_LOCALDISK-sdb_DSKWTps': 0.5142754205223579, 'a:OSLinux-OSLinux_NETWORK_NETWORK_TCP-FIN-WAIT': 0.2044807313956351, 'a:OSLinux-CPU_CPU_CPUUserTime': 0.5090735633986255, 'a:JVM-Operating System_7778_JVM_JVM_CPULoad': 0.001875721561622079}, user_attrs={}, system_attrs={}, intermediate_values={}, distributions={'a:AlertCount': FloatDistribution(high=5.0, log=False, low=0.0, step=None), 'a:OSLinux-OSLinux_LOCALDISK_LOCALDISK-sdb_DSKRead': FloatDistribution(high=5.0, log=False, low=0.0, step=None), 'a:JVM-Operating System_7779_JVM_JVM_CPULoad': FloatDistribution(high=5.0, log=False, low=0.0, step=None), 'a:OSLinux-OSLinux_LOCALDISK_LOCALDISK-sda_DSKTps': FloatDistribution(high=5.0, log=False, low=0.0, step=None), 'a:OSLinux-OSLinux_LOCALDISK_LOCALDISK-sdb_DSKPercentBusy': FloatDistribution(high=5.0, log=False, low=0.0, step=None), 'a:ig_post': FloatDistribution(high=5.0, log=False, low=0.0, step=None), 'a:OSLinux-OSLinux_LOCALDISK_LOCALDISK-sdb_DSKWrite': FloatDistribution(high=5.0, log=False, low=0.0, step=None), 'a:severe': FloatDistribution(high=5.0, log=False, low=0.0, step=None), 'a:OSLinux-OSLinux_LOCALDISK_LOCALDISK-sdb_DSKWTps': FloatDistribution(high=5.0, log=False, low=0.0, step=None), 'a:OSLinux-OSLinux_NETWORK_NETWORK_TCP-FIN-WAIT': FloatDistribution(high=5.0, log=False, low=0.0, step=None), 'a:OSLinux-CPU_CPU_CPUUserTime': FloatDistribution(high=5.0, log=False, low=0.0, step=None), 'a:JVM-Operating System_7778_JVM_JVM_CPULoad': FloatDistribution(high=5.0, log=False, low=0.0, step=None)}, trial_id=51, value=None)\n",
      "a: {'AlertCount': 0.97225288482687, 'OSLinux-OSLinux_LOCALDISK_LOCALDISK-sdb_DSKRead': 0.5418739000332797, 'JVM-Operating System_7779_JVM_JVM_CPULoad': 0.1388234993280597, 'OSLinux-OSLinux_LOCALDISK_LOCALDISK-sda_DSKTps': 0.40505438315424636, 'OSLinux-OSLinux_LOCALDISK_LOCALDISK-sdb_DSKPercentBusy': 2.6031381690247732, 'ig_post': 1.5217405364458585, 'OSLinux-OSLinux_LOCALDISK_LOCALDISK-sdb_DSKWrite': 0.5329269064488631, 'severe': 0.9248021844760329, 'OSLinux-OSLinux_LOCALDISK_LOCALDISK-sdb_DSKWTps': 0.5142754205223579, 'OSLinux-OSLinux_NETWORK_NETWORK_TCP-FIN-WAIT': 0.2044807313956351, 'OSLinux-CPU_CPU_CPUUserTime': 0.5090735633986255, 'JVM-Operating System_7778_JVM_JVM_CPULoad': 0.001875721561622079}\n"
     ]
    },
    {
     "name": "stderr",
     "output_type": "stream",
     "text": [
      "100%|██████████| 100/100 [00:15<00:00,  6.37it/s]\n"
     ]
    },
    {
     "name": "stdout",
     "output_type": "stream",
     "text": [
      "best trial: FrozenTrial(number=1, state=TrialState.COMPLETE, values=[0.8, 8.870317900616229], datetime_start=datetime.datetime(2025, 6, 4, 13, 40, 38, 488234), datetime_complete=datetime.datetime(2025, 6, 4, 13, 40, 38, 488234), params={'a:AlertCount': 0.97225288482687, 'a:OSLinux-OSLinux_LOCALDISK_LOCALDISK-sdb_DSKRead': 0.5418739000332797, 'a:JVM-Operating System_7779_JVM_JVM_CPULoad': 0.1388234993280597, 'a:OSLinux-OSLinux_LOCALDISK_LOCALDISK-sda_DSKTps': 0.40505438315424636, 'a:OSLinux-OSLinux_LOCALDISK_LOCALDISK-sdb_DSKPercentBusy': 2.6031381690247732, 'a:ig_post': 1.5217405364458585, 'a:OSLinux-OSLinux_LOCALDISK_LOCALDISK-sdb_DSKWrite': 0.5329269064488631, 'a:severe': 0.9248021844760329, 'a:OSLinux-OSLinux_LOCALDISK_LOCALDISK-sdb_DSKWTps': 0.5142754205223579, 'a:OSLinux-OSLinux_NETWORK_NETWORK_TCP-FIN-WAIT': 0.2044807313956351, 'a:OSLinux-CPU_CPU_CPUUserTime': 0.5090735633986255, 'a:JVM-Operating System_7778_JVM_JVM_CPULoad': 0.001875721561622079}, user_attrs={}, system_attrs={}, intermediate_values={}, distributions={'a:AlertCount': FloatDistribution(high=5.0, log=False, low=0.0, step=None), 'a:OSLinux-OSLinux_LOCALDISK_LOCALDISK-sdb_DSKRead': FloatDistribution(high=5.0, log=False, low=0.0, step=None), 'a:JVM-Operating System_7779_JVM_JVM_CPULoad': FloatDistribution(high=5.0, log=False, low=0.0, step=None), 'a:OSLinux-OSLinux_LOCALDISK_LOCALDISK-sda_DSKTps': FloatDistribution(high=5.0, log=False, low=0.0, step=None), 'a:OSLinux-OSLinux_LOCALDISK_LOCALDISK-sdb_DSKPercentBusy': FloatDistribution(high=5.0, log=False, low=0.0, step=None), 'a:ig_post': FloatDistribution(high=5.0, log=False, low=0.0, step=None), 'a:OSLinux-OSLinux_LOCALDISK_LOCALDISK-sdb_DSKWrite': FloatDistribution(high=5.0, log=False, low=0.0, step=None), 'a:severe': FloatDistribution(high=5.0, log=False, low=0.0, step=None), 'a:OSLinux-OSLinux_LOCALDISK_LOCALDISK-sdb_DSKWTps': FloatDistribution(high=5.0, log=False, low=0.0, step=None), 'a:OSLinux-OSLinux_NETWORK_NETWORK_TCP-FIN-WAIT': FloatDistribution(high=5.0, log=False, low=0.0, step=None), 'a:OSLinux-CPU_CPU_CPUUserTime': FloatDistribution(high=5.0, log=False, low=0.0, step=None), 'a:JVM-Operating System_7778_JVM_JVM_CPULoad': FloatDistribution(high=5.0, log=False, low=0.0, step=None)}, trial_id=1, value=None)\n",
      "a: {'AlertCount': 0.97225288482687, 'OSLinux-OSLinux_LOCALDISK_LOCALDISK-sdb_DSKRead': 0.5418739000332797, 'JVM-Operating System_7779_JVM_JVM_CPULoad': 0.1388234993280597, 'OSLinux-OSLinux_LOCALDISK_LOCALDISK-sda_DSKTps': 0.40505438315424636, 'OSLinux-OSLinux_LOCALDISK_LOCALDISK-sdb_DSKPercentBusy': 2.6031381690247732, 'ig_post': 1.5217405364458585, 'OSLinux-OSLinux_LOCALDISK_LOCALDISK-sdb_DSKWrite': 0.5329269064488631, 'severe': 0.9248021844760329, 'OSLinux-OSLinux_LOCALDISK_LOCALDISK-sdb_DSKWTps': 0.5142754205223579, 'OSLinux-OSLinux_NETWORK_NETWORK_TCP-FIN-WAIT': 0.2044807313956351, 'OSLinux-CPU_CPU_CPUUserTime': 0.5090735633986255, 'JVM-Operating System_7778_JVM_JVM_CPULoad': 0.001875721561622079}\n"
     ]
    },
    {
     "name": "stderr",
     "output_type": "stream",
     "text": [
      "100%|██████████| 100/100 [00:20<00:00,  4.93it/s]\n"
     ]
    },
    {
     "name": "stdout",
     "output_type": "stream",
     "text": [
      "best trial: FrozenTrial(number=83, state=TrialState.COMPLETE, values=[0.8433734939759037, 17.979902453976468], datetime_start=datetime.datetime(2025, 6, 4, 13, 41, 10, 714939), datetime_complete=datetime.datetime(2025, 6, 4, 13, 41, 10, 943206), params={'a:AlertCount': 1.2027918732185863, 'a:OSLinux-OSLinux_LOCALDISK_LOCALDISK-sdb_DSKRead': 0.0010881116699530402, 'a:JVM-Operating System_7779_JVM_JVM_CPULoad': 0.008721296832074933, 'a:OSLinux-OSLinux_LOCALDISK_LOCALDISK-sda_DSKTps': 1.8447023044687707, 'a:OSLinux-OSLinux_LOCALDISK_LOCALDISK-sdb_DSKPercentBusy': 2.6419308086244744, 'a:ig_post': 4.327002538170563, 'a:OSLinux-OSLinux_LOCALDISK_LOCALDISK-sdb_DSKWrite': 0.28147874899070446, 'a:severe': 2.754783433455171, 'a:OSLinux-OSLinux_LOCALDISK_LOCALDISK-sdb_DSKWTps': 0.21579755962023212, 'a:OSLinux-OSLinux_NETWORK_NETWORK_TCP-FIN-WAIT': 1.1488296145978938, 'a:OSLinux-CPU_CPU_CPUUserTime': 0.2870202009540499, 'a:JVM-Operating System_7778_JVM_JVM_CPULoad': 3.2657559633739974}, user_attrs={}, system_attrs={}, intermediate_values={}, distributions={'a:AlertCount': FloatDistribution(high=5.0, log=False, low=0.0, step=None), 'a:OSLinux-OSLinux_LOCALDISK_LOCALDISK-sdb_DSKRead': FloatDistribution(high=5.0, log=False, low=0.0, step=None), 'a:JVM-Operating System_7779_JVM_JVM_CPULoad': FloatDistribution(high=5.0, log=False, low=0.0, step=None), 'a:OSLinux-OSLinux_LOCALDISK_LOCALDISK-sda_DSKTps': FloatDistribution(high=5.0, log=False, low=0.0, step=None), 'a:OSLinux-OSLinux_LOCALDISK_LOCALDISK-sdb_DSKPercentBusy': FloatDistribution(high=5.0, log=False, low=0.0, step=None), 'a:ig_post': FloatDistribution(high=5.0, log=False, low=0.0, step=None), 'a:OSLinux-OSLinux_LOCALDISK_LOCALDISK-sdb_DSKWrite': FloatDistribution(high=5.0, log=False, low=0.0, step=None), 'a:severe': FloatDistribution(high=5.0, log=False, low=0.0, step=None), 'a:OSLinux-OSLinux_LOCALDISK_LOCALDISK-sdb_DSKWTps': FloatDistribution(high=5.0, log=False, low=0.0, step=None), 'a:OSLinux-OSLinux_NETWORK_NETWORK_TCP-FIN-WAIT': FloatDistribution(high=5.0, log=False, low=0.0, step=None), 'a:OSLinux-CPU_CPU_CPUUserTime': FloatDistribution(high=5.0, log=False, low=0.0, step=None), 'a:JVM-Operating System_7778_JVM_JVM_CPULoad': FloatDistribution(high=5.0, log=False, low=0.0, step=None)}, trial_id=83, value=None)\n",
      "A better solution found\n",
      "a: {'AlertCount': 1.2027918732185863, 'OSLinux-OSLinux_LOCALDISK_LOCALDISK-sdb_DSKRead': 0.0010881116699530402, 'JVM-Operating System_7779_JVM_JVM_CPULoad': 0.008721296832074933, 'OSLinux-OSLinux_LOCALDISK_LOCALDISK-sda_DSKTps': 1.8447023044687707, 'OSLinux-OSLinux_LOCALDISK_LOCALDISK-sdb_DSKPercentBusy': 2.6419308086244744, 'ig_post': 4.327002538170563, 'OSLinux-OSLinux_LOCALDISK_LOCALDISK-sdb_DSKWrite': 0.28147874899070446, 'severe': 2.754783433455171, 'OSLinux-OSLinux_LOCALDISK_LOCALDISK-sdb_DSKWTps': 0.21579755962023212, 'OSLinux-OSLinux_NETWORK_NETWORK_TCP-FIN-WAIT': 1.1488296145978938, 'OSLinux-CPU_CPU_CPUUserTime': 0.2870202009540499, 'JVM-Operating System_7778_JVM_JVM_CPULoad': 3.2657559633739974}\n"
     ]
    },
    {
     "name": "stderr",
     "output_type": "stream",
     "text": [
      "100%|██████████| 100/100 [00:22<00:00,  4.45it/s]\n"
     ]
    },
    {
     "name": "stdout",
     "output_type": "stream",
     "text": [
      "best trial: FrozenTrial(number=55, state=TrialState.COMPLETE, values=[0.8426966292134831, 15.882964753654706], datetime_start=datetime.datetime(2025, 6, 4, 13, 41, 27, 23865), datetime_complete=datetime.datetime(2025, 6, 4, 13, 41, 27, 247558), params={'a:AlertCount': 0.08644202096690612, 'a:OSLinux-OSLinux_LOCALDISK_LOCALDISK-sdb_DSKRead': 0.022184709854909765, 'a:JVM-Operating System_7779_JVM_JVM_CPULoad': 0.5235356643136586, 'a:OSLinux-OSLinux_LOCALDISK_LOCALDISK-sda_DSKTps': 0.2533902915989855, 'a:OSLinux-OSLinux_LOCALDISK_LOCALDISK-sdb_DSKPercentBusy': 3.0715405481008307, 'a:ig_post': 0.005887414243080959, 'a:OSLinux-OSLinux_LOCALDISK_LOCALDISK-sdb_DSKWrite': 2.9083307067172, 'a:severe': 0.6299287301802545, 'a:OSLinux-OSLinux_LOCALDISK_LOCALDISK-sdb_DSKWTps': 0.7346712073816575, 'a:OSLinux-OSLinux_NETWORK_NETWORK_TCP-FIN-WAIT': 0.6437507193380776, 'a:OSLinux-CPU_CPU_CPUUserTime': 3.2361289473941923, 'a:JVM-Operating System_7778_JVM_JVM_CPULoad': 3.7671737935649525}, user_attrs={}, system_attrs={}, intermediate_values={}, distributions={'a:AlertCount': FloatDistribution(high=5.0, log=False, low=0.0, step=None), 'a:OSLinux-OSLinux_LOCALDISK_LOCALDISK-sdb_DSKRead': FloatDistribution(high=5.0, log=False, low=0.0, step=None), 'a:JVM-Operating System_7779_JVM_JVM_CPULoad': FloatDistribution(high=5.0, log=False, low=0.0, step=None), 'a:OSLinux-OSLinux_LOCALDISK_LOCALDISK-sda_DSKTps': FloatDistribution(high=5.0, log=False, low=0.0, step=None), 'a:OSLinux-OSLinux_LOCALDISK_LOCALDISK-sdb_DSKPercentBusy': FloatDistribution(high=5.0, log=False, low=0.0, step=None), 'a:ig_post': FloatDistribution(high=5.0, log=False, low=0.0, step=None), 'a:OSLinux-OSLinux_LOCALDISK_LOCALDISK-sdb_DSKWrite': FloatDistribution(high=5.0, log=False, low=0.0, step=None), 'a:severe': FloatDistribution(high=5.0, log=False, low=0.0, step=None), 'a:OSLinux-OSLinux_LOCALDISK_LOCALDISK-sdb_DSKWTps': FloatDistribution(high=5.0, log=False, low=0.0, step=None), 'a:OSLinux-OSLinux_NETWORK_NETWORK_TCP-FIN-WAIT': FloatDistribution(high=5.0, log=False, low=0.0, step=None), 'a:OSLinux-CPU_CPU_CPUUserTime': FloatDistribution(high=5.0, log=False, low=0.0, step=None), 'a:JVM-Operating System_7778_JVM_JVM_CPULoad': FloatDistribution(high=5.0, log=False, low=0.0, step=None)}, trial_id=55, value=None)\n",
      "a: {'AlertCount': 0.08644202096690612, 'OSLinux-OSLinux_LOCALDISK_LOCALDISK-sdb_DSKRead': 0.022184709854909765, 'JVM-Operating System_7779_JVM_JVM_CPULoad': 0.5235356643136586, 'OSLinux-OSLinux_LOCALDISK_LOCALDISK-sda_DSKTps': 0.2533902915989855, 'OSLinux-OSLinux_LOCALDISK_LOCALDISK-sdb_DSKPercentBusy': 3.0715405481008307, 'ig_post': 0.005887414243080959, 'OSLinux-OSLinux_LOCALDISK_LOCALDISK-sdb_DSKWrite': 2.9083307067172, 'severe': 0.6299287301802545, 'OSLinux-OSLinux_LOCALDISK_LOCALDISK-sdb_DSKWTps': 0.7346712073816575, 'OSLinux-OSLinux_NETWORK_NETWORK_TCP-FIN-WAIT': 0.6437507193380776, 'OSLinux-CPU_CPU_CPUUserTime': 3.2361289473941923, 'JVM-Operating System_7778_JVM_JVM_CPULoad': 3.7671737935649525}\n"
     ]
    },
    {
     "name": "stderr",
     "output_type": "stream",
     "text": [
      "100%|██████████| 100/100 [00:25<00:00,  3.90it/s]\n"
     ]
    },
    {
     "name": "stdout",
     "output_type": "stream",
     "text": [
      "best trial: FrozenTrial(number=1, state=TrialState.COMPLETE, values=[0.8365384615384616, 15.882964753654706], datetime_start=datetime.datetime(2025, 6, 4, 13, 41, 38, 132749), datetime_complete=datetime.datetime(2025, 6, 4, 13, 41, 38, 132749), params={'a:AlertCount': 0.08644202096690612, 'a:OSLinux-OSLinux_LOCALDISK_LOCALDISK-sdb_DSKRead': 0.022184709854909765, 'a:JVM-Operating System_7779_JVM_JVM_CPULoad': 0.5235356643136586, 'a:OSLinux-OSLinux_LOCALDISK_LOCALDISK-sda_DSKTps': 0.2533902915989855, 'a:OSLinux-OSLinux_LOCALDISK_LOCALDISK-sdb_DSKPercentBusy': 3.0715405481008307, 'a:ig_post': 0.005887414243080959, 'a:OSLinux-OSLinux_LOCALDISK_LOCALDISK-sdb_DSKWrite': 2.9083307067172, 'a:severe': 0.6299287301802545, 'a:OSLinux-OSLinux_LOCALDISK_LOCALDISK-sdb_DSKWTps': 0.7346712073816575, 'a:OSLinux-OSLinux_NETWORK_NETWORK_TCP-FIN-WAIT': 0.6437507193380776, 'a:OSLinux-CPU_CPU_CPUUserTime': 3.2361289473941923, 'a:JVM-Operating System_7778_JVM_JVM_CPULoad': 3.7671737935649525, 'a:OSLinux-OSLinux_FILESYSTEM_-tmp_FSUsedSpace': 0}, user_attrs={}, system_attrs={}, intermediate_values={}, distributions={'a:AlertCount': FloatDistribution(high=5.0, log=False, low=0.0, step=None), 'a:OSLinux-OSLinux_LOCALDISK_LOCALDISK-sdb_DSKRead': FloatDistribution(high=5.0, log=False, low=0.0, step=None), 'a:JVM-Operating System_7779_JVM_JVM_CPULoad': FloatDistribution(high=5.0, log=False, low=0.0, step=None), 'a:OSLinux-OSLinux_LOCALDISK_LOCALDISK-sda_DSKTps': FloatDistribution(high=5.0, log=False, low=0.0, step=None), 'a:OSLinux-OSLinux_LOCALDISK_LOCALDISK-sdb_DSKPercentBusy': FloatDistribution(high=5.0, log=False, low=0.0, step=None), 'a:ig_post': FloatDistribution(high=5.0, log=False, low=0.0, step=None), 'a:OSLinux-OSLinux_LOCALDISK_LOCALDISK-sdb_DSKWrite': FloatDistribution(high=5.0, log=False, low=0.0, step=None), 'a:severe': FloatDistribution(high=5.0, log=False, low=0.0, step=None), 'a:OSLinux-OSLinux_LOCALDISK_LOCALDISK-sdb_DSKWTps': FloatDistribution(high=5.0, log=False, low=0.0, step=None), 'a:OSLinux-OSLinux_NETWORK_NETWORK_TCP-FIN-WAIT': FloatDistribution(high=5.0, log=False, low=0.0, step=None), 'a:OSLinux-CPU_CPU_CPUUserTime': FloatDistribution(high=5.0, log=False, low=0.0, step=None), 'a:JVM-Operating System_7778_JVM_JVM_CPULoad': FloatDistribution(high=5.0, log=False, low=0.0, step=None), 'a:OSLinux-OSLinux_FILESYSTEM_-tmp_FSUsedSpace': FloatDistribution(high=5.0, log=False, low=0.0, step=None)}, trial_id=1, value=None)\n",
      "a: {'AlertCount': 0.08644202096690612, 'OSLinux-OSLinux_LOCALDISK_LOCALDISK-sdb_DSKRead': 0.022184709854909765, 'JVM-Operating System_7779_JVM_JVM_CPULoad': 0.5235356643136586, 'OSLinux-OSLinux_LOCALDISK_LOCALDISK-sda_DSKTps': 0.2533902915989855, 'OSLinux-OSLinux_LOCALDISK_LOCALDISK-sdb_DSKPercentBusy': 3.0715405481008307, 'ig_post': 0.005887414243080959, 'OSLinux-OSLinux_LOCALDISK_LOCALDISK-sdb_DSKWrite': 2.9083307067172, 'severe': 0.6299287301802545, 'OSLinux-OSLinux_LOCALDISK_LOCALDISK-sdb_DSKWTps': 0.7346712073816575, 'OSLinux-OSLinux_NETWORK_NETWORK_TCP-FIN-WAIT': 0.6437507193380776, 'OSLinux-CPU_CPU_CPUUserTime': 3.2361289473941923, 'JVM-Operating System_7778_JVM_JVM_CPULoad': 3.7671737935649525, 'OSLinux-OSLinux_FILESYSTEM_-tmp_FSUsedSpace': 0}\n"
     ]
    },
    {
     "name": "stderr",
     "output_type": "stream",
     "text": [
      "100%|██████████| 100/100 [00:28<00:00,  3.56it/s]"
     ]
    },
    {
     "name": "stdout",
     "output_type": "stream",
     "text": [
      "best trial: FrozenTrial(number=60, state=TrialState.COMPLETE, values=[0.8389830508474576, 23.65685878767432], datetime_start=datetime.datetime(2025, 6, 4, 13, 42, 19, 976995), datetime_complete=datetime.datetime(2025, 6, 4, 13, 42, 20, 263268), params={'a:AlertCount': 0.398412682827161, 'a:OSLinux-OSLinux_LOCALDISK_LOCALDISK-sdb_DSKRead': 2.4211374104291368, 'a:JVM-Operating System_7779_JVM_JVM_CPULoad': 2.522823815616296, 'a:OSLinux-OSLinux_LOCALDISK_LOCALDISK-sda_DSKTps': 0.16759971028671505, 'a:OSLinux-OSLinux_LOCALDISK_LOCALDISK-sdb_DSKPercentBusy': 1.8085099743373978, 'a:ig_post': 2.530527985834182, 'a:OSLinux-OSLinux_LOCALDISK_LOCALDISK-sdb_DSKWrite': 0.4300935358474801, 'a:severe': 0.19140970040081473, 'a:OSLinux-OSLinux_LOCALDISK_LOCALDISK-sdb_DSKWTps': 0.304604416673523, 'a:OSLinux-OSLinux_NETWORK_NETWORK_TCP-FIN-WAIT': 1.1996827228964368, 'a:OSLinux-CPU_CPU_CPUUserTime': 3.8260853872781144, 'a:JVM-Operating System_7778_JVM_JVM_CPULoad': 4.97254344274366, 'a:OSLinux-OSLinux_FILESYSTEM_-tmp_FSUsedSpace': 2.8834280025034036}, user_attrs={}, system_attrs={}, intermediate_values={}, distributions={'a:AlertCount': FloatDistribution(high=5.0, log=False, low=0.0, step=None), 'a:OSLinux-OSLinux_LOCALDISK_LOCALDISK-sdb_DSKRead': FloatDistribution(high=5.0, log=False, low=0.0, step=None), 'a:JVM-Operating System_7779_JVM_JVM_CPULoad': FloatDistribution(high=5.0, log=False, low=0.0, step=None), 'a:OSLinux-OSLinux_LOCALDISK_LOCALDISK-sda_DSKTps': FloatDistribution(high=5.0, log=False, low=0.0, step=None), 'a:OSLinux-OSLinux_LOCALDISK_LOCALDISK-sdb_DSKPercentBusy': FloatDistribution(high=5.0, log=False, low=0.0, step=None), 'a:ig_post': FloatDistribution(high=5.0, log=False, low=0.0, step=None), 'a:OSLinux-OSLinux_LOCALDISK_LOCALDISK-sdb_DSKWrite': FloatDistribution(high=5.0, log=False, low=0.0, step=None), 'a:severe': FloatDistribution(high=5.0, log=False, low=0.0, step=None), 'a:OSLinux-OSLinux_LOCALDISK_LOCALDISK-sdb_DSKWTps': FloatDistribution(high=5.0, log=False, low=0.0, step=None), 'a:OSLinux-OSLinux_NETWORK_NETWORK_TCP-FIN-WAIT': FloatDistribution(high=5.0, log=False, low=0.0, step=None), 'a:OSLinux-CPU_CPU_CPUUserTime': FloatDistribution(high=5.0, log=False, low=0.0, step=None), 'a:JVM-Operating System_7778_JVM_JVM_CPULoad': FloatDistribution(high=5.0, log=False, low=0.0, step=None), 'a:OSLinux-OSLinux_FILESYSTEM_-tmp_FSUsedSpace': FloatDistribution(high=5.0, log=False, low=0.0, step=None)}, trial_id=60, value=None)\n",
      "A better solution found\n",
      "a: {'AlertCount': 0.398412682827161, 'OSLinux-OSLinux_LOCALDISK_LOCALDISK-sdb_DSKRead': 2.4211374104291368, 'JVM-Operating System_7779_JVM_JVM_CPULoad': 2.522823815616296, 'OSLinux-OSLinux_LOCALDISK_LOCALDISK-sda_DSKTps': 0.16759971028671505, 'OSLinux-OSLinux_LOCALDISK_LOCALDISK-sdb_DSKPercentBusy': 1.8085099743373978, 'ig_post': 2.530527985834182, 'OSLinux-OSLinux_LOCALDISK_LOCALDISK-sdb_DSKWrite': 0.4300935358474801, 'severe': 0.19140970040081473, 'OSLinux-OSLinux_LOCALDISK_LOCALDISK-sdb_DSKWTps': 0.304604416673523, 'OSLinux-OSLinux_NETWORK_NETWORK_TCP-FIN-WAIT': 1.1996827228964368, 'OSLinux-CPU_CPU_CPUUserTime': 3.8260853872781144, 'JVM-Operating System_7778_JVM_JVM_CPULoad': 4.97254344274366, 'OSLinux-OSLinux_FILESYSTEM_-tmp_FSUsedSpace': 2.8834280025034036}\n"
     ]
    },
    {
     "name": "stderr",
     "output_type": "stream",
     "text": [
      "\n"
     ]
    }
   ],
   "source": [
    "# Re-run the continual learning process for verification\n",
    "for i, case in enumerate(incident_topologies):\n",
    "    \n",
    "    # Generate prediction with current optimized parameters\n",
    "    case['pred_incremental'] = root_cause_localization(\n",
    "        case, node_clue_tags, edge_clue_tags, a, get_edge_weight, edge_backward_factor\n",
    "    )\n",
    "\n",
    "    # Continue optimization if prediction fails\n",
    "    if case['root_cause'] not in case['pred_incremental'] and case['pred_incremental'] != 'None':\n",
    "        node_clue_tags, a = optimize(\n",
    "            case, node_clue_tags, edge_clue_tags, a, get_edge_weight, \n",
    "            edge_backward_factor, incident_topologies[:i+1], init_clue_tag\n",
    "        )"
   ]
  },
  {
   "cell_type": "markdown",
   "metadata": {},
   "source": [
    "## Step 16: Explanation Analysis (Optional)\n",
    "\n",
    "Analyze the explanation power of different features for a specific case to understand what drives the diagnosis decisions."
   ]
  },
  {
   "cell_type": "code",
   "execution_count": 16,
   "metadata": {},
   "outputs": [
    {
     "name": "stdout",
     "output_type": "stream",
     "text": [
      "[('OSLinux-OSLinux_LOCALDISK_LOCALDISK-sda_DSKBps', 2.805104970932007), ('OSLinux-OSLinux_LOCALDISK_LOCALDISK-sdb_DSKBps', 2.0804319381713867), ('AlertCount', 2.0), ('OSLinux-CPU_CPU_CPUUserTime', 1.927789330482483), ('OSLinux-OSLinux_MEMORY_MEMORY_MEMUsedMemPerc', 1.7422798871994019), ('OSLinux-OSLinux_MEMORY_MEMORY_MEMFreeMem', 1.715888500213623), ('OSLinux-OSLinux_MEMORY_MEMORY_UserMem', 1.715610384941101), ('OSLinux-CPU_CPU_CPUSysTime', 1.662093162536621), ('OSLinux-OSLinux_MEMORY_MEMORY_CacheMem', 1.6293668746948242), ('OSLinux-OSLinux_LOCALDISK_LOCALDISK-sdb_DSKWTps', 1.3667736053466797), ('OSLinux-CPU_CPU-3_SingleCpuidle', 1.2186559438705444), ('OSLinux-CPU_CPU-2_SingleCpuidle', 1.19316565990448), ('OSLinux-CPU_CPU_CPUidleutil', 1.117641806602478), ('OSLinux-OSLinux_FILESYSTEM_-home_FSAvailableSpace', 1.0207465887069702), ('OSLinux-OSLinux_ZABBIX_Host_Uptime', 1.0203567743301392), ('JVM-Runtime_7779_JVM_JVM_Uptime', 1.020106315612793), ('OSLinux-CPU_CPU-3_SingleCpuUtil', 1.0028090476989746), ('OSLinux-CPU_CPU-2_SingleCpuUtil', 0.9850146174430847), ('OSLinux-OSLinux_FILE_-tmp-zabbix_agentd.log_FileSizeMB', 0.9836812019348145), ('JVM-Memory_7779_JVM_Memory_HeapMemoryUsed', 0.9465084075927734), ('OSLinux-OSLinux_LOCALDISK_LOCALDISK-sdb_DSKWrite', 0.8900957107543945), ('JVM-Operating System_7779_JVM_JVM_CPULoad', 0.8736647963523865), ('JVM-Memory_7779_JVM_Memory_HeapMemoryUsage', 0.8552088737487793), ('OSLinux-OSLinux_NETWORK_ens160_NETPacketsIn', 0.852304995059967), ('OSLinux-OSLinux_NETWORK_ens160_NETPacketsOut', 0.8452684283256531), ('req_count', 0.842602550983429), ('OSLinux-OSLinux_FILESYSTEM_-tomcat_FSAvailableSpace', 0.814643919467926), ('OSLinux-OSLinux_FILESYSTEM_-tomcat_FSUsedSpace', 0.80912184715271), ('JVM-Threads_7779_JVM_ThreadCount_Threads', 0.8076643347740173), ('OSLinux-OSLinux_FILESYSTEM_-tomcat_FSCapacity', 0.7832930684089661), ('OSLinux-OSLinux_FILESYSTEM_-tomcat_FSInodeUsedPercent', 0.7761516571044922), ('OSLinux-OSLinux_NETWORK_NETWORK_TotalTcpConnNum', 0.7157376408576965), ('duration', 0.6785733699798584), ('OSLinux-OSLinux_LOCALDISK_LOCALDISK-sda_DSKTps', 0.6487491726875305), ('OSLinux-OSLinux_FILESYSTEM_-tmp_FSCapacity', 0.6373774409294128), ('OSLinux-OSLinux_LOCALDISK_LOCALDISK-sda_DSKPercentBusy', 0.6219059228897095), ('OSLinux-CPU_CPU-1_SingleCpuUtil', 0.5959990620613098), ('OSLinux-OSLinux_FILESYSTEM_-_FSCapacity', 0.5844783186912537), ('OSLinux-OSLinux_LOCALDISK_LOCALDISK-sdb_DSKReadWrite', 0.5463559031486511), ('OSLinux-OSLinux_NETWORK_ens160_NETBandwidthUtil', 0.5023190379142761), ('OSLinux-CPU_CPU_CPULoad', 0.48744311928749084), ('OSLinux-OSLinux_LOCALDISK_LOCALDISK-sdb_DSKPercentBusy', 0.4789070785045624), ('OSLinux-OSLinux_FILESYSTEM_-home_FSCapacity', 0.47822055220603943), ('OSLinux-OSLinux_FILESYSTEM_-home_FSUsedSpace', 0.42008402943611145), ('OSLinux-OSLinux_FILESYSTEM_-home_FSInodeUsedPercent', 0.42008402943611145), ('OSLinux-CPU_CPU-1_SingleCpuidle', 0.41142532229423523), ('OSLinux-CPU_CPU-0_SingleCpuUtil', 0.3940526247024536), ('OSLinux-OSLinux_NETWORK_ens160_NETKBTotalPerSec', 0.31126055121421814), ('OSLinux-OSLinux_LOCALDISK_LOCALDISK-sda_DSKReadWrite', 0.2913418114185333), ('OSLinux-OSLinux_MEMORY_MEMORY_MEMTotalMem', 0.2790059745311737), ('OSLinux-OSLinux_FILE_-home-zabbix_DirSizeMB', 0.2790059745311737), ('OSLinux-OSLinux_SYSTEM_SYSTEM_Check-DefaultRoute', 0.2790059745311737), ('OSLinux-OSLinux_SYSTEM_SYSTEM_Check-Hostname', 0.22941572964191437), ('OSLinux-OSLinux_LOCALDISK_LOCALDISK-sda_DSKRTps', 0.20155107975006104), ('OSLinux-OSLinux_NETWORK_NETWORK_TCP-FIN-WAIT', 0.1856953352689743), ('OSLinux-CPU_CPU_CPUWio', 0.18142558634281158), ('OSLinux-OSLinux_LOCALDISK_LOCALDISK-sda_DSKWTps', 0.16457200050354004), ('OSLinux-OSLinux_LOCALDISK_LOCALDISK-sda_DSKWrite', 0.15713001787662506), ('OSLinux-OSLinux_LOCALDISK_LOCALDISK-sdb_DSKRead', 0.15075565874576569), ('OSLinux-OSLinux_LOCALDISK_LOCALDISK-sdb_DSKRTps', 0.15075565874576569), ('OSLinux-OSLinux_LOCALDISK_LOCALDISK-sda_DSKAvgServ', 0.15075565874576569), ('OSLinux-OSLinux_LOCALDISK_LOCALDISK-sdb_DSKAvgServ', 0.15075565874576569), ('OSLinux-OSLinux_LOCALDISK_LOCALDISK-sda_DSKRead', 0.14343638718128204), ('OSLinux-CPU_CPU_CPUCpuUtil', 0.11277252435684204), ('OSLinux-CPU_CPU-0_SingleCpuidle', 0.08017797023057938), ('OSLinux-OSLinux_MEMORY_MEMORY_NoCacheMemPerc', 0.035427726805210114), ('OSLinux-OSLinux_FILESYSTEM_-_FSInodeUsedPercent', 3.552713678800501e-15), ('OSLinux-OSLinux_FILESYSTEM_-boot_FSCapacity', 1.7763568394002505e-15), ('OSLinux-OSLinux_FILESYSTEM_-boot_FSInodeUsedPercent', 1.1102230246251565e-16), ('OSLinux-OSLinux_PROCESS_zabbix-zabbix_agentd_PROCPPCPUPerc', 5.551115123125783e-17), ('OSLinux-OSLinux_FILESYSTEM_-tmp_FSInodeUsedPercent', 6.938893903907228e-18), ('Mysql-MySQL_3306_Innodb buffer pool pages total', 0.0), ('OSLinux-OSLinux_FILESYSTEM_-mysql_FSUsedSpace', 0.0), ('redis-Redis_6379_Redis  (used_memory_rss)', 0.0), ('Mysql-MySQL_3306_Innodb log write requests', 0.0), ('OSLinux-OSLinux_PROCESS_PROCESS_PROCNoZombies', 0.0), ('other', 0.0), ('JVM-Memory_7779_JVM_Memory_NoHeapMemoryUsed', 0.0), ('Mysql-MySQL_3306_Innodb dblwr writes', 0.0), ('OSLinux-OSLinux_FILESYSTEM_-mysqlbak_FSCapacity', 0.0), ('OSLinux-OSLinux_FILESYSTEM_-usr-openv_FSAvailableSpace', 0.0), ('OSLinux-OSLinux_LOCALDISK_LOCALDISK-sdc_DSKWrite', 0.0), ('Mysql-MySQL_3306_Open Tables', 0.0), ('Tomcat-Requests_7441-\"http-nio-8003\"_ErrorCountRequestInfo', 0.0), ('Container-DOCKER_CONTAINER_3bf443a64876--bcou-role-st-uat-statefulset-1--bcou--UATWKR03_MemPercent', 0.0), ('OSLinux-OSLinux_FILESYSTEM_-boot_FSAvailableSpace', 0.0), ('Container-DOCKER_CONTAINER_76d31070b844--bcou-role-st-uat-statefulset-1--bcou--UATWKR06_MemUsage', 0.0), ('OSLinux-OSLinux_LOCALDISK_LOCALDISK-sdc_DSKTps', 0.0), ('redis-Redis_6379_Redis  (maxmemory)', 0.0), ('Mysql-MySQL_3306_LongestTrxActiveTime', 0.0), ('redis-Redis_6379_Redis  (mem_fragmentation_ratio)', 0.0), ('redis-Redis_6379_Redis  (used_memory)', 0.0), ('redis-Redis_6379_redis server', 0.0), ('Mysql-MySQL_3306_Bytes Sent', 0.0), ('Tomcat-Requests_7441-\"http-nio-8003\"_MaxTimeRequestInfo', 0.0), ('Mysql-MySQL_3306_Innodb os log written', 0.0), ('Tomcat-MEMORY_7441-MEMORY_JVMFreeMemory', 0.0), ('Container-DOCKER_CONTAINER_3bf443a64876--bcou-role-st-uat-statefulset-1--bcou--UATWKR03_MemUsage', 0.0), ('Mysql-MySQL_3306_Innodb data pending fsyncs', 0.0), ('OSLinux-OSLinux_FILESYSTEM_-_FSAvailableSpace', 0.0), ('Tomcat-Requests_7441-\"http-nio-8003\"_ProcessingTimeRequestInfo', 0.0), ('OSLinux-OSLinux_FILESYSTEM_-mysqlbak_FSInodeUsedPercent', 0.0), ('Mysql-MySQL_3306_Handler Read Prev', 0.0), ('redis-Redis_6379_Redis  (used_cpu_user)', 0.0), ('Mysql-MySQL_3306_Sort Rows', 0.0), ('JVM-Memory_7778_JVM_Memory_NoHeapMemoryUsed', 0.0), ('Mysql-MySQL_3306_Table Locks Immediate', 0.0), ('Container-DOCKER_CONTAINER_2c2336e2994f--bcou-role-st-uat-statefulset-1--bcou--UATWKR06_MemLimit', 0.0), ('OSLinux-OSLinux_FILESYSTEM_-mysqldata_FSInodeUsedPercent', 0.0), ('Container-DOCKER_CONTAINER_3bf443a64876--bcou-role-st-uat-statefulset-1--bcou--UATWKR03_MemLimit', 0.0), ('Mysql-MySQL_3306_Binlog Cache Use', 0.0), ('Mysql-MySQL_3306_Innodb Row Lock Time', 0.0), ('Mysql-MySQL_3306_max trx lock memory bytes', 0.0), ('Mysql-MySQL_3306_Innodb data read', 0.0), ('redis-Redis_6379_Redis  (used_cpu_sys)', 0.0), ('Mysql-MySQL_3306_Innodb Row Lock Waits', 0.0), ('Mysql-MySQL_3306_Innodb buffer pool pages dirty', 0.0), ('Mysql-MySQL_3306_Open Files', 0.0), ('redis-Redis_6379_Redis  (keyspace_misses)', 0.0), ('OSLinux-OSLinux_LOCALDISK_LOCALDISK-sdc_DSKWTps', 0.0), ('Mysql-MySQL_3306_Max trx rows locked', 0.0), ('Mysql-MySQL_3306_Com Update', 0.0), ('severe', 0.0), ('Mysql-MySQL_3306_Table open cache hits', 0.0), ('Mysql-MySQL_3306_Innodb pages read', 0.0), ('OSLinux-OSLinux_FILESYSTEM_-usr-openv_FSUsedSpace', 0.0), ('OSLinux-OSLinux_FILESYSTEM_-mysqlbak_FSUsedSpace', 0.0), ('Container-DOCKER_CONTAINER_2c2336e2994f--bcou-role-st-uat-statefulset-1--bcou--UATWKR06_NetworkRxBytes', 0.0), ('Tomcat-MEMORY_7441-MEMORY_JVMUsedMemory', 0.0), ('Mysql-MySQL_3306_Aborted Clients', 0.0), ('OSLinux-OSLinux_PROCESS_PROCESS_PROCPPMem', 0.0), ('OSLinux-OSLinux_FILESYSTEM_-mysqlbak_FSAvailableSpace', 0.0), ('Container-DOCKER_CONTAINER_2c2336e2994f--bcou-role-st-uat-statefulset-1--bcou--UATWKR06_NetworkTxBytes', 0.0), ('OSLinux-OSLinux_FILESYSTEM_-_FSUsedSpace', 0.0), ('Mysql-MySQL_3306_Binlog Cache Disk Use', 0.0), ('Tomcat-MEMORY_7441-MEMORY_JVMMemoryUsedPercent', 0.0), ('Container-DOCKER_CONTAINER_76d31070b844--bcou-role-st-uat-statefulset-1--bcou--UATWKR06_MemPercent', 0.0), ('info', 0.0), ('Mysql-MySQL_3306_GetConnectedStateOfMysqld', 0.0), ('OSLinux-OSLinux_FILESYSTEM_-cmbc_admin_FSUsedSpace', 0.0), ('redis-Redis_6379_Redis  (expired_keys)', 0.0), ('JVM-Memory_7778_JVM_Memory_HeapMemoryUsage', 0.0), ('Mysql-MySQL_3306_Binlog stmt cache use', 0.0), ('OSLinux-OSLinux_NETWORK_NETWORK_TCP-CLOSE-WAIT', 0.0), ('Container-DOCKER_CONTAINER_2c2336e2994f--bcou-role-st-uat-statefulset-1--bcou--UATWKR06_MemPercent', 0.0), ('Mysql-MySQL_3306_Innodb buffer pool write requests', 0.0), ('Mysql-MySQL_3306_Innodb data written', 0.0), ('Mysql-MySQL_3306_Qcache Not Cached', 0.0), ('Mysql-MySQL_3306_Threads Cached', 0.0), ('Mysql-MySQL_3306_Handler Delete', 0.0), ('Mysql-MySQL_3306_Innodb pages created', 0.0), ('Mysql-MySQL_3306_Handler Read Rnd', 0.0), ('Mysql-MySQL_3306_Opened table definitions', 0.0), ('OSLinux-OSLinux_LOCALDISK_LOCALDISK-sdc_DSKReadWrite', 0.0), ('Mysql-MySQL_3306_Innodb buffer pool read requests', 0.0), ('Mysql-MySQL_3306_Threads Created', 0.0), ('Tomcat-Threads_7441-\"http-nio-8003\"_CurrentThreadCountThreadInfo', 0.0), ('redis-Redis_6379_Redis  (total_commands_processed)', 0.0), ('Mysql-MySQL_3306_Innodb os log pending fsyncs', 0.0), ('OSLinux-OSLinux_LOCALDISK_LOCALDISK-sdc_DSKRTps', 0.0), ('Mysql-MySQL_3306_Innodb log writes', 0.0), ('Mysql-MySQL_3306_Handler Read Key', 0.0), ('Mysql-MySQL_3306_MySQL  Queries', 0.0), ('JVM-Runtime_7778_JVM_JVM_Uptime', 0.0), ('Mysql-MySQL_3306_Innodb row lock current waits', 0.0), ('Mysql-MySQL_3306_Innodb buffer pool pages misc', 0.0), ('OSLinux-OSLinux_FILESYSTEM_-apache_FSInodeUsedPercent', 0.0), ('warning', 0.0), ('Container-DOCKER_CONTAINER_76d31070b844--bcou-role-st-uat-statefulset-1--bcou--UATWKR06_NetworkTxBytes', 0.0), ('Mysql-MySQL_3306_Aborted Connects', 0.0), ('Mysql-MySQL_3306_Innodb data fsyncs', 0.0), ('Mysql-MySQL_3306_Key Read Requests', 0.0), ('Mysql-MySQL_3306_Innodb buffer pool read ahead', 0.0), ('Mysql-MySQL_3306_Created Tmp Tables', 0.0), ('OSLinux-OSLinux_FILESYSTEM_-cmbc_admin_FSCapacity', 0.0), ('OSLinux-OSLinux_FILESYSTEM_-apache_FSCapacity', 0.0), ('Tomcat-Requests_7441-\"http-nio-8003\"_RequestCountRequestInfo', 0.0), ('Mysql-MySQL_3306_Created Tmp Files', 0.0), ('OSLinux-OSLinux_FILESYSTEM_-cmbc_admin_FSInodeUsedPercent', 0.0), ('Mysql-MySQL_3306_Handler Read Next', 0.0), ('OSLinux-OSLinux_FILESYSTEM_-apache_FSUsedSpace', 0.0), ('Mysql-MySQL_3306_Handler Read Rnd Next', 0.0), ('OSLinux-OSLinux_FILESYSTEM_-boot_FSUsedSpace', 0.0), ('OSLinux-OSLinux_PROCESS_zabbix_PROCPPCount', 0.0), ('redis-Redis_6379_Redis  (connected_clients)', 0.0), ('Mysql-MySQL_3306_Select Full Join', 0.0), ('ig_post', 0.0), ('Mysql-MySQL_3306_Innodb buffer pool pages free', 0.0), ('Mysql-MySQL_3306_Sort Merge Passes', 0.0), ('Mysql-MySQL_3306_Key Reads', 0.0), ('OSLinux-OSLinux_LOCALDISK_LOCALDISK-sdb_DSKTps', 0.0), ('OSLinux-OSLinux_LOCALDISK_LOCALDISK-sdc_DSKAvgServ', 0.0), ('Tomcat-Threads_7441-\"http-nio-8003\"_CurrentThreadsBusyThreadInfo', 0.0), ('error', 0.0), ('Container-DOCKER_CONTAINER_2c2336e2994f--bcou-role-st-uat-statefulset-1--bcou--UATWKR06_CpuPercent', 0.0), ('user_host', 0.0), ('Mysql-MySQL_3306_Innodb buffer pool reads', 0.0), ('Mysql-MySQL_3306_Innodb row lock time avg', 0.0), ('Mysql-MySQL_3306_Handler Commit', 0.0), ('Mysql-MySQL_3306_Handler Update', 0.0), ('OSLinux-OSLinux_FILESYSTEM_-cmbc_admin_FSAvailableSpace', 0.0), ('OSLinux-OSLinux_FILESYSTEM_-usr-openv_FSCapacity', 0.0), ('Tomcat-MEMORY_7441-MEMORY_JVMTotalMemory', 0.0), ('Container-DOCKER_CONTAINER_3bf443a64876--bcou-role-st-uat-statefulset-1--bcou--UATWKR03_NetworkTxBytes', 0.0), ('Container-DOCKER_CONTAINER_76d31070b844--bcou-role-st-uat-statefulset-1--bcou--UATWKR06_CpuPercent', 0.0), ('redis-Redis_6379_Redis  (total_connections_received)', 0.0), ('Mysql-MySQL_3306_Sort Range', 0.0), ('Mysql-MySQL_3306_Table open cache misses', 0.0), ('redis-Redis_6379_Redis  (lru_clock)', 0.0), ('OSLinux-OSLinux_PROCESS_apache_10001_PROCPPCount', 0.0), ('OSLinux-OSLinux_FILESYSTEM_-mysqldata_FSUsedSpace', 0.0), ('JVM-Operating System_7778_JVM_JVM_CPULoad', 0.0), ('ipaddress_post', 0.0), ('OSLinux-OSLinux_FILESYSTEM_-apache_FSAvailableSpace', 0.0), ('Mysql-MySQL_3306_GetResponseTimeOfMysqld', 0.0), ('Mysql-MySQL_3306_ThreadsConnected', 0.0), ('redis-Redis_6379_Redis  (rdb_changes_since_last_save)', 0.0), ('Mysql-MySQL_3306_Opened Tables', 0.0), ('Mysql-MySQL_3306_Select Range', 0.0), ('Mysql-MySQL_3306_Select Full Range Join', 0.0), ('Mysql-MySQL_3306_Innodb buffer pool pages flushed', 0.0), ('OSLinux-OSLinux_FILESYSTEM_-tmp_FSUsedSpace', 0.0), ('Mysql-MySQL_3306_ThreadsRunning', 0.0), ('Mysql-MySQL_3306_Innodb data pending writes', 0.0), ('Mysql-MySQL_3306_Handler Write', 0.0), ('Mysql-MySQL_3306_Questions', 0.0), ('OSLinux-OSLinux_FILESYSTEM_-mysqldata_FSCapacity', 0.0), ('OSLinux-OSLinux_LOCALDISK_LOCALDISK-sdc_DSKRead', 0.0), ('Mysql-MySQL_3306_Com Delete', 0.0), ('Mysql-MySQL_3306_Innodb data reads', 0.0), ('Mysql-MySQL_3306_Innodb os log fsyncs', 0.0), ('Mysql-MySQL_3306_Handler Rollback', 0.0), ('Mysql-MySQL_3306_Bytes Received', 0.0), ('OSLinux-OSLinux_FILESYSTEM_-mysql_FSCapacity', 0.0), ('OSLinux-OSLinux_FILESYSTEM_-usr-openv_FSInodeUsedPercent', 0.0), ('Mysql-MySQL_3306_Innodb open files  num', 0.0), ('OSLinux-OSLinux_FILESYSTEM_-mysql_FSAvailableSpace', 0.0), ('redis-Redis_6379_Redis  (keyspace_hits)', 0.0), ('OSLinux-OSLinux_FILESYSTEM_-tmp_FSAvailableSpace', 0.0), ('JVM-Threads_7778_JVM_ThreadCount_Threads', 0.0), ('Mysql-MySQL_3306_Rows Read', 0.0), ('Mysql-MySQL_3306_Com Insert', 0.0), ('Tomcat-MEMORY_7441-MEMORY_JVMMaxMemory', 0.0), ('redis-Redis_6379_Redis  (uptime_in_seconds)', 0.0), ('Mysql-MySQL_3306_CurrentSQLMaxRunningTime', 0.0), ('Mysql-MySQL_3306_Connections', 0.0), ('Mysql-MySQL_3306_Innodb os log pending writes', 0.0), ('OSLinux-OSLinux_FILESYSTEM_-mysqldata_FSAvailableSpace', 0.0), ('redis-Redis_6379_Redis  (used_memory_peak)', 0.0), ('Mysql-MySQL_3306_Handler Read First', 0.0), ('Mysql-MySQL_3306_Com Select', 0.0), ('Mysql-MySQL_3306_SlowQueries', 0.0), ('Mysql-MySQL_3306_Innodb dblwr pages written', 0.0), ('Tomcat-Threads_7441-\"http-nio-8003\"_MaxThreadsThreadInfo', 0.0), ('Container-DOCKER_CONTAINER_2c2336e2994f--bcou-role-st-uat-statefulset-1--bcou--UATWKR06_MemUsage', 0.0), ('Mysql-MySQL_3306_Created Tmp Disk Tables', 0.0), ('Mysql-MySQL_3306_Innodb data writes', 0.0), ('OSLinux-OSLinux_FILESYSTEM_-mysql_FSInodeUsedPercent', 0.0), ('Container-DOCKER_CONTAINER_3bf443a64876--bcou-role-st-uat-statefulset-1--bcou--UATWKR03_CpuPercent', 0.0), ('Mysql-MySQL_3306_Innodb pages written', 0.0), ('Mysql-MySQL_3306_MaxTrxRowsModified', 0.0), ('OSLinux-OSLinux_LOCALDISK_LOCALDISK-sdc_DSKBps', 0.0), ('Mysql-MySQL_3306_Select Scan', 0.0), ('Mysql-MySQL_3306_Sort Scan', 0.0), ('OSLinux-OSLinux_LOCALDISK_LOCALDISK-sdc_DSKPercentBusy', 0.0), ('JVM-Memory_7778_JVM_Memory_HeapMemoryUsed', 0.0), ('redis-Redis_6379_Redis  (instantaneous_ops_per_sec)', 0.0)]\n"
     ]
    }
   ],
   "source": [
    "# Analyze explanation power for the first case\n",
    "# This shows which features contribute most to the root cause prediction\n",
    "case = incident_topologies[0]\n",
    "sorted_refined_explanation_power = explain(case, 'root_cause')\n",
    "print(sorted_refined_explanation_power)"
   ]
  }
 ],
 "metadata": {
  "kernelspec": {
   "display_name": "pilot",
   "language": "python",
   "name": "python3"
  },
  "language_info": {
   "codemirror_mode": {
    "name": "ipython",
    "version": 3
   },
   "file_extension": ".py",
   "mimetype": "text/x-python",
   "name": "python",
   "nbconvert_exporter": "python",
   "pygments_lexer": "ipython3",
   "version": "3.8.5"
  }
 },
 "nbformat": 4,
 "nbformat_minor": 2
}
