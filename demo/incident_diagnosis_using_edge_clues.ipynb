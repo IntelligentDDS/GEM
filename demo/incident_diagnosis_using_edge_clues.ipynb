{
 "cells": [
  {
   "cell_type": "markdown",
   "metadata": {},
   "source": [
    "# Incident Diagnosis Using Edge Clues\n",
    "\n",
    "This notebook demonstrates root cause localization for incidents using edge-based clues from service call relationships. The approach focuses on analyzing failure patterns in service-to-service communications to identify the root cause of incidents.\n",
    "\n",
    "**Key Concepts:**\n",
    "- **Edge Clues**: Information extracted from service call relationships (e.g., failure counts)\n",
    "- **Root Cause Localization**: Algorithm to identify which service is the source of an incident\n",
    "- **Edge Backward Factor**: Parameter controlling how much upstream failures influence downstream services\n",
    "\n",
    "**Process Overview:**\n",
    "1. Load labeled incident topologies\n",
    "2. Extract and prepare edge-based failure information\n",
    "3. Configure diagnosis parameters\n",
    "4. Apply root cause localization algorithm\n",
    "5. Evaluate prediction accuracy"
   ]
  },
  {
   "cell_type": "markdown",
   "metadata": {},
   "source": [
    "## Step 1: Import Required Libraries\n",
    "\n",
    "Import libraries for graph analysis, data processing, and the custom incident diagnosis algorithms."
   ]
  },
  {
   "cell_type": "code",
   "execution_count": 1,
   "metadata": {},
   "outputs": [
    {
     "name": "stderr",
     "output_type": "stream",
     "text": [
      "/home/user/anaconda3/envs/pilot/lib/python3.8/site-packages/tqdm/auto.py:21: TqdmWarning: IProgress not found. Please update jupyter and ipywidgets. See https://ipywidgets.readthedocs.io/en/stable/user_install.html\n",
      "  from .autonotebook import tqdm as notebook_tqdm\n"
     ]
    }
   ],
   "source": [
    "# Core libraries for data processing and analysis\n",
    "from __future__ import division\n",
    "import networkx as nx  # Graph analysis for service topology\n",
    "import pickle          # Data serialization\n",
    "import math\n",
    "import matplotlib.pyplot as plt  # Visualization\n",
    "import pandas as pd    # Data manipulation\n",
    "import json\n",
    "import datetime\n",
    "import numpy as np\n",
    "\n",
    "# Import custom incident diagnosis algorithms\n",
    "import sys\n",
    "sys.path.append('../src')\n",
    "from incident_diagnosis.incident_diagnosis import root_cause_localization, explain, optimize, get_weight_from_edge_info"
   ]
  },
  {
   "cell_type": "markdown",
   "metadata": {},
   "source": [
    "## Step 2: Load Labeled Incident Topologies\n",
    "\n",
    "Load the topology data that has been labeled through the data labeling process. These topologies contain both the incident structure and ground truth root cause information."
   ]
  },
  {
   "cell_type": "code",
   "execution_count": 2,
   "metadata": {},
   "outputs": [],
   "source": [
    "# Load the labeled topology data from the data labeling step\n",
    "# This contains incidents with known root causes for evaluation\n",
    "with open('../data/issue_topoloies.pkl', 'rb') as f:\n",
    "    Topologies = pickle.load(f)"
   ]
  },
  {
   "cell_type": "markdown",
   "metadata": {},
   "source": [
    "## Step 3: Filter Relevant Cases\n",
    "\n",
    "Extract only the cases that are labeled as incidents (y=1) and have identifiable root causes. This excludes normal operations and system-wide faults that cannot be attributed to specific services."
   ]
  },
  {
   "cell_type": "code",
   "execution_count": 3,
   "metadata": {},
   "outputs": [],
   "source": [
    "# Filter for actual incidents with identifiable root causes\n",
    "# y=1: labeled as incident\n",
    "# 'root_cause' exists and != 'All': has specific root cause (not system-wide)\n",
    "all_cases = [case for case in Topologies if case['y'] == 1 and 'root_cause' in case and case['root_cause']!='All']"
   ]
  },
  {
   "cell_type": "markdown",
   "metadata": {},
   "source": [
    "## Step 4: Prepare Edge Information\n",
    "\n",
    "Transform the edge information from the original format into a structured format suitable for the diagnosis algorithm. This includes:\n",
    "- **Current edge info**: Failure counts during the incident\n",
    "- **Historical edge info**: Baseline failure counts from previous periods for comparison"
   ]
  },
  {
   "cell_type": "code",
   "execution_count": 4,
   "metadata": {},
   "outputs": [],
   "source": [
    "# Prepare edge information for each case\n",
    "for case in all_cases:\n",
    "    # Initialize edge information dictionaries\n",
    "    case['edge_info'] = {}        # Current incident period\n",
    "    case['edge_mount_info'] = {}  # Historical baseline\n",
    "\n",
    "    # Process each edge in the topology\n",
    "    for edge in case['edges_info']:\n",
    "        # Create edge identifier (source_destination)\n",
    "        edge_key = edge['src']+'_'+edge['des']\n",
    "        \n",
    "        # Store current failure count for this edge\n",
    "        case['edge_info'][edge_key] = {}\n",
    "        case['edge_info'][edge_key]['FailCount'] = edge['FailCount']\n",
    "\n",
    "        # Store historical failure count for baseline comparison\n",
    "        case['edge_mount_info'][edge_key] = {}\n",
    "        case['edge_mount_info'][edge_key]['FailCount'] = edge['YesterFailCount']"
   ]
  },
  {
   "cell_type": "markdown",
   "metadata": {},
   "source": [
    "## Step 5: Configure Diagnosis Parameters\n",
    "\n",
    "Set up the parameters for the root cause localization algorithm:\n",
    "- **Edge clue tags**: Types of edge information to use (FailCount)\n",
    "- **Node clue tags**: Types of node information to use (empty for edge-only approach)\n",
    "- **Weights**: Importance of each clue type\n",
    "- **Edge backward factor**: Controls how upstream failures influence downstream services"
   ]
  },
  {
   "cell_type": "code",
   "execution_count": 5,
   "metadata": {},
   "outputs": [],
   "source": [
    "# Configure algorithm parameters\n",
    "init_clue_tag = 'FailCount'     # Primary clue type for initialization\n",
    "node_clue_tags = []             # No node-based clues in this approach\n",
    "edge_clue_tags = ['FailCount']  # Use failure count as edge clue\n",
    "\n",
    "# Set weights for each clue type (all equal weight = 1)\n",
    "a = {}\n",
    "for clue_tag in edge_clue_tags:\n",
    "    a[clue_tag] = 1\n",
    "for clue_tag in node_clue_tags:\n",
    "    a[clue_tag] = 1\n",
    "\n",
    "# Edge backward factor: controls upstream influence\n",
    "# Lower values (0.3) mean upstream failures have less impact on downstream blame\n",
    "edge_backward_factor = 0.3\n",
    "\n",
    "# Apply root cause localization to each case\n",
    "for case in all_cases:\n",
    "    case['pred'] = root_cause_localization(\n",
    "        case, \n",
    "        node_clue_tags, \n",
    "        edge_clue_tags, \n",
    "        a, \n",
    "        get_edge_weight=get_weight_from_edge_info, \n",
    "        edge_backward_factor=edge_backward_factor\n",
    "    )"
   ]
  },
  {
   "cell_type": "markdown",
   "metadata": {},
   "source": [
    "## Step 6: Evaluate Prediction Accuracy\n",
    "\n",
    "Compare the algorithm's predictions with the ground truth root causes to assess performance."
   ]
  },
  {
   "cell_type": "code",
   "execution_count": 6,
   "metadata": {},
   "outputs": [],
   "source": [
    "# Compare predictions with ground truth\n",
    "# Mark each case as correct (True) or incorrect (False)\n",
    "for case in all_cases:\n",
    "    case['right'] = case['pred'] == case['root_cause']"
   ]
  },
  {
   "cell_type": "markdown",
   "metadata": {},
   "source": [
    "## Step 7: Display Results\n",
    "\n",
    "Show the overall accuracy of the edge-based root cause localization approach."
   ]
  },
  {
   "cell_type": "code",
   "execution_count": 7,
   "metadata": {},
   "outputs": [
    {
     "data": {
      "text/plain": [
       "True     384\n",
       "False     18\n",
       "Name: count, dtype: int64"
      ]
     },
     "execution_count": 7,
     "metadata": {},
     "output_type": "execute_result"
    }
   ],
   "source": [
    "# Display accuracy results\n",
    "# True: Correct predictions\n",
    "# False: Incorrect predictions\n",
    "pd.Series([case['right'] for case in all_cases]).value_counts()"
   ]
  }
 ],
 "metadata": {
  "kernelspec": {
   "display_name": "pilot",
   "language": "python",
   "name": "python3"
  },
  "language_info": {
   "codemirror_mode": {
    "name": "ipython",
    "version": 3
   },
   "file_extension": ".py",
   "mimetype": "text/x-python",
   "name": "python",
   "nbconvert_exporter": "python",
   "pygments_lexer": "ipython3",
   "version": "3.8.5"
  }
 },
 "nbformat": 4,
 "nbformat_minor": 4
}
