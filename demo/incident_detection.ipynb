{
 "cells": [
  {
   "cell_type": "markdown",
   "metadata": {},
   "source": [
    "# Incident Detection Using Graph Neural Networks\n",
    "\n",
    "This notebook demonstrates incident detection using the SpatioDevNet model on labeled topology data. The process involves:\n",
    "\n",
    "1. **Data Loading**: Load preprocessed training and test cases\n",
    "2. **Data Preparation**: Convert data to PyTorch Geometric format\n",
    "3. **Model Training**: Train the SpatioDevNet model for incident classification\n",
    "4. **Evaluation**: Assess model performance using various metrics\n",
    "\n",
    "**Model Architecture**: SpatioDevNet combines graph neural networks with attention pooling to classify network topologies as incidents or normal operations."
   ]
  },
  {
   "cell_type": "markdown",
   "metadata": {},
   "source": [
    "## Step 1: Import Required Libraries\n",
    "\n",
    "Import essential libraries for deep learning, graph processing, and model evaluation."
   ]
  },
  {
   "cell_type": "code",
   "execution_count": 1,
   "metadata": {},
   "outputs": [
    {
     "name": "stderr",
     "output_type": "stream",
     "text": [
      "/home/user/anaconda3/envs/pilot/lib/python3.8/site-packages/tqdm/auto.py:21: TqdmWarning: IProgress not found. Please update jupyter and ipywidgets. See https://ipywidgets.readthedocs.io/en/stable/user_install.html\n",
      "  from .autonotebook import tqdm as notebook_tqdm\n"
     ]
    }
   ],
   "source": [
    "# Data processing and serialization\n",
    "import pickle\n",
    "import pandas as pd\n",
    "import numpy as np\n",
    "\n",
    "# PyTorch and PyTorch Geometric for deep learning\n",
    "import torch\n",
    "from torch_geometric.data import Data\n",
    "\n",
    "# Model evaluation metrics\n",
    "from sklearn.metrics import precision_recall_fscore_support, average_precision_score\n",
    "\n",
    "# Custom model implementation\n",
    "import sys\n",
    "sys.path.append('../src')\n",
    "from incident_detection import callSpatioDevNet"
   ]
  },
  {
   "cell_type": "markdown",
   "metadata": {},
   "source": [
    "## Step 2: Load Training Data\n",
    "\n",
    "Load the preprocessed training cases that contain labeled topology data for model training."
   ]
  },
  {
   "cell_type": "code",
   "execution_count": 2,
   "metadata": {},
   "outputs": [],
   "source": [
    "# Load training cases with labeled topologies\n",
    "# Each case contains node features, edge information, and incident labels\n",
    "with open('../data/train_cases.pkl', 'rb') as f:\n",
    "    train_cases = pickle.load(f)"
   ]
  },
  {
   "cell_type": "markdown",
   "metadata": {},
   "source": [
    "## Step 3: Load Test Data\n",
    "\n",
    "Load the test cases for model evaluation and performance assessment."
   ]
  },
  {
   "cell_type": "code",
   "execution_count": 3,
   "metadata": {},
   "outputs": [],
   "source": [
    "# Load test cases for model evaluation\n",
    "# These cases are used to assess model performance on unseen data\n",
    "with open('../data/test_cases.pkl', 'rb') as f:\n",
    "    test_cases = pickle.load(f)"
   ]
  },
  {
   "cell_type": "markdown",
   "metadata": {},
   "source": [
    "## Step 4: Convert Training Data to PyTorch Geometric Format\n",
    "\n",
    "Transform training data into PyTorch Geometric Data objects with:\n",
    "- **Node features (x)**: Service-level metrics and characteristics\n",
    "- **Edge indices**: Bidirectional connections between services\n",
    "- **Edge attributes**: Relationship features between services\n",
    "- **Global features**: System-wide characteristics\n",
    "- **Labels (y)**: Binary incident classification (1=incident, 0=normal)"
   ]
  },
  {
   "cell_type": "code",
   "execution_count": 4,
   "metadata": {},
   "outputs": [],
   "source": [
    "# Convert training cases to PyTorch Geometric Data format\n",
    "# Each Data object represents a topology with all necessary features for GNN processing\n",
    "trainlist = [Data(x=torch.tensor(item['x'], dtype=torch.float), \n",
    "            edge_index=torch.tensor(item['bi_edge_index'], dtype=torch.long).t().contiguous(),\n",
    "            y=torch.tensor([[1 if item['y'] == 1 else 0]], dtype = torch.float),\n",
    "            edge_attr=torch.tensor(item['bi_edge_fea'], dtype = torch.float),\n",
    "            global_x = torch.tensor(item['global_fea'], dtype = torch.float).unsqueeze(0)) for item in train_cases]"
   ]
  },
  {
   "cell_type": "markdown",
   "metadata": {},
   "source": [
    "## Step 5: Convert Test Data to PyTorch Geometric Format\n",
    "\n",
    "Apply the same data transformation to test cases for consistent model input format."
   ]
  },
  {
   "cell_type": "code",
   "execution_count": 5,
   "metadata": {},
   "outputs": [],
   "source": [
    "# Convert test cases to PyTorch Geometric Data format\n",
    "# Maintains the same structure as training data for consistent evaluation\n",
    "testlist = [Data(x=torch.tensor(item['x'], dtype=torch.float), \n",
    "            edge_index=torch.tensor(item['bi_edge_index'], dtype=torch.long).t().contiguous(),\n",
    "            y=torch.tensor([[1 if item['y'] == 1 else 0]], dtype = torch.float),\n",
    "            edge_attr=torch.tensor(item['bi_edge_fea'], dtype = torch.float),\n",
    "            global_x = torch.tensor(item['global_fea'], dtype = torch.float).unsqueeze(0)) for item in test_cases]"
   ]
  },
  {
   "cell_type": "markdown",
   "metadata": {},
   "source": [
    "## Step 6: Extract Training Labels\n",
    "\n",
    "Extract binary labels from training data for evaluation metrics calculation."
   ]
  },
  {
   "cell_type": "code",
   "execution_count": 6,
   "metadata": {},
   "outputs": [],
   "source": [
    "# Extract training labels for metric calculation\n",
    "# Convert tensor labels to integer format for sklearn metrics\n",
    "train_labels = [int(item.y) for item in trainlist]"
   ]
  },
  {
   "cell_type": "markdown",
   "metadata": {},
   "source": [
    "## Step 7: Extract Test Labels\n",
    "\n",
    "Extract binary labels from test data for model performance evaluation."
   ]
  },
  {
   "cell_type": "code",
   "execution_count": 7,
   "metadata": {},
   "outputs": [],
   "source": [
    "# Extract test labels for evaluation\n",
    "# These will be used to assess model performance on unseen data\n",
    "test_labels = [int(item.y) for item in testlist]"
   ]
  },
  {
   "cell_type": "markdown",
   "metadata": {},
   "source": [
    "## Step 8: Analyze Training Data Distribution\n",
    "\n",
    "Examine the class distribution in training data to understand dataset balance."
   ]
  },
  {
   "cell_type": "code",
   "execution_count": 8,
   "metadata": {},
   "outputs": [
    {
     "data": {
      "text/plain": [
       "0    2749\n",
       "1     311\n",
       "Name: count, dtype: int64"
      ]
     },
     "execution_count": 8,
     "metadata": {},
     "output_type": "execute_result"
    }
   ],
   "source": [
    "# Analyze training data class distribution\n",
    "# Important for understanding dataset balance and potential bias\n",
    "pd.Series(train_labels).value_counts()"
   ]
  },
  {
   "cell_type": "markdown",
   "metadata": {},
   "source": [
    "## Step 9: Analyze Test Data Distribution\n",
    "\n",
    "Examine the class distribution in test data to ensure representative evaluation."
   ]
  },
  {
   "cell_type": "code",
   "execution_count": 9,
   "metadata": {},
   "outputs": [
    {
     "data": {
      "text/plain": [
       "0    2745\n",
       "1     315\n",
       "Name: count, dtype: int64"
      ]
     },
     "execution_count": 9,
     "metadata": {},
     "output_type": "execute_result"
    }
   ],
   "source": [
    "# Analyze test data class distribution\n",
    "# Ensures test set is representative of the problem domain\n",
    "pd.Series(test_labels).value_counts()"
   ]
  },
  {
   "cell_type": "markdown",
   "metadata": {},
   "source": [
    "## Step 10: Inspect Sample Data Structure\n",
    "\n",
    "Examine the structure of a sample training instance to verify data format."
   ]
  },
  {
   "cell_type": "code",
   "execution_count": 10,
   "metadata": {},
   "outputs": [
    {
     "data": {
      "text/plain": [
       "Data(x=[2, 14], edge_index=[2, 2], edge_attr=[2, 7], y=[1, 1], global_x=[1, 4])"
      ]
     },
     "execution_count": 10,
     "metadata": {},
     "output_type": "execute_result"
    }
   ],
   "source": [
    "# Inspect the structure of the first training sample\n",
    "# Verify data format and dimensions for model compatibility\n",
    "trainlist[0]"
   ]
  },
  {
   "cell_type": "markdown",
   "metadata": {},
   "source": [
    "## Step 11: Define Model Hyperparameters\n",
    "\n",
    "Set up model architecture parameters based on data dimensions:\n",
    "- **INPUT_DIM**: Number of node features per service\n",
    "- **HIDDEN_DIM**: Hidden layer size for graph neural network\n",
    "- **EDGE_ATTR_LEN**: Number of edge features between services\n",
    "- **GLOBAL_FEA_LEN**: Number of global topology features"
   ]
  },
  {
   "cell_type": "code",
   "execution_count": 11,
   "metadata": {},
   "outputs": [],
   "source": [
    "# Define model hyperparameters based on data dimensions\n",
    "# These parameters determine the model architecture\n",
    "INPUT_DIM = trainlist[0].x.shape[1]        # Node feature dimension\n",
    "HIDDEN_DIM = 20                            # Hidden layer size\n",
    "EDGE_ATTR_LEN = trainlist[0].edge_attr.shape[1]  # Edge feature dimension\n",
    "GLOBAL_FEA_LEN = trainlist[0].global_x.shape[1]  # Global feature dimension"
   ]
  },
  {
   "cell_type": "code",
   "execution_count": null,
   "metadata": {},
   "outputs": [],
   "source": []
  },
  {
   "cell_type": "markdown",
   "metadata": {},
   "source": [
    "## Step 12: Configure PyTorch Threading\n",
    "\n",
    "Set PyTorch to use single thread for reproducible results and avoid threading conflicts."
   ]
  },
  {
   "cell_type": "code",
   "execution_count": 12,
   "metadata": {},
   "outputs": [],
   "source": [
    "# Set PyTorch to use single thread for reproducibility\n",
    "# Prevents threading-related randomness in model training\n",
    "torch.set_num_threads(1)"
   ]
  },
  {
   "cell_type": "markdown",
   "metadata": {},
   "source": [
    "# Stage 1 Demo: Cold Start Evaluation\n",
    "\n",
    "This stage evaluates the model's performance without training (cold start scenario). The model uses pre-trained weights to make predictions on the training data to establish baseline performance."
   ]
  },
  {
   "cell_type": "markdown",
   "metadata": {},
   "source": [
    "## Step 13: Cold Start Model Evaluation\n",
    "\n",
    "Evaluate model performance across multiple random seeds without training:\n",
    "- Initialize model with different random seeds for robustness\n",
    "- Use pre-trained weights (FinalModel_OnlineBoutique.pt)\n",
    "- Evaluate on training data to establish baseline\n",
    "- Calculate precision, recall, F1-score, and average precision"
   ]
  },
  {
   "cell_type": "code",
   "execution_count": 13,
   "metadata": {},
   "outputs": [
    {
     "name": "stderr",
     "output_type": "stream",
     "text": [
      "/home/user/anaconda3/envs/pilot/lib/python3.8/site-packages/torch_geometric/deprecation.py:26: UserWarning: 'nn.glob.GlobalAttention' is deprecated, use 'nn.aggr.AttentionalAggregation' instead\n",
      "  warnings.warn(out)\n",
      "/home/user/anaconda3/envs/pilot/lib/python3.8/site-packages/torch_geometric/deprecation.py:26: UserWarning: 'data.DataLoader' is deprecated, use 'loader.DataLoader' instead\n",
      "  warnings.warn(out)\n",
      "100%|██████████| 96/96 [00:00<00:00, 398.50it/s]\n",
      "/home/user/anaconda3/envs/pilot/lib/python3.8/site-packages/torch_geometric/deprecation.py:26: UserWarning: 'nn.glob.GlobalAttention' is deprecated, use 'nn.aggr.AttentionalAggregation' instead\n",
      "  warnings.warn(out)\n",
      "/home/user/anaconda3/envs/pilot/lib/python3.8/site-packages/torch_geometric/deprecation.py:26: UserWarning: 'data.DataLoader' is deprecated, use 'loader.DataLoader' instead\n",
      "  warnings.warn(out)\n",
      "100%|██████████| 96/96 [00:00<00:00, 397.50it/s]\n",
      "/home/user/anaconda3/envs/pilot/lib/python3.8/site-packages/torch_geometric/deprecation.py:26: UserWarning: 'nn.glob.GlobalAttention' is deprecated, use 'nn.aggr.AttentionalAggregation' instead\n",
      "  warnings.warn(out)\n",
      "/home/user/anaconda3/envs/pilot/lib/python3.8/site-packages/torch_geometric/deprecation.py:26: UserWarning: 'data.DataLoader' is deprecated, use 'loader.DataLoader' instead\n",
      "  warnings.warn(out)\n",
      "100%|██████████| 96/96 [00:00<00:00, 399.56it/s]\n",
      "/home/user/anaconda3/envs/pilot/lib/python3.8/site-packages/torch_geometric/deprecation.py:26: UserWarning: 'nn.glob.GlobalAttention' is deprecated, use 'nn.aggr.AttentionalAggregation' instead\n",
      "  warnings.warn(out)\n",
      "/home/user/anaconda3/envs/pilot/lib/python3.8/site-packages/torch_geometric/deprecation.py:26: UserWarning: 'data.DataLoader' is deprecated, use 'loader.DataLoader' instead\n",
      "  warnings.warn(out)\n",
      "100%|██████████| 96/96 [00:00<00:00, 408.28it/s]\n",
      "/home/user/anaconda3/envs/pilot/lib/python3.8/site-packages/torch_geometric/deprecation.py:26: UserWarning: 'nn.glob.GlobalAttention' is deprecated, use 'nn.aggr.AttentionalAggregation' instead\n",
      "  warnings.warn(out)\n",
      "/home/user/anaconda3/envs/pilot/lib/python3.8/site-packages/torch_geometric/deprecation.py:26: UserWarning: 'data.DataLoader' is deprecated, use 'loader.DataLoader' instead\n",
      "  warnings.warn(out)\n",
      "100%|██████████| 96/96 [00:00<00:00, 400.88it/s]\n"
     ]
    }
   ],
   "source": [
    "# Initialize lists to store evaluation metrics across multiple runs\n",
    "gied_ap = []   # Average Precision scores\n",
    "gied_prf = []  # Precision, Recall, F1-score tuples\n",
    "\n",
    "# Run evaluation with 5 different random seeds for statistical robustness\n",
    "for seedi in range(5):\n",
    "    # Model configuration parameters\n",
    "    NAME = 'FinalModel_OnlineBoutique'  # Pre-trained model name\n",
    "    LOSS = 'cross_entropy'              # Loss function for binary classification\n",
    "    POOLING = 'attention'               # Graph pooling method\n",
    "    \n",
    "    # Initialize SpatioDevNet model with specified parameters\n",
    "    model = callSpatioDevNet(name = NAME, input_dim = INPUT_DIM, hidden_dim = HIDDEN_DIM, \n",
    "                           edge_attr_len = EDGE_ATTR_LEN, global_fea_len = GLOBAL_FEA_LEN, \n",
    "                           num_epochs = 60, nonlinear_scorer = False, act = False, \n",
    "                           pooling = POOLING, loss_func = LOSS, lr = 1e-3, seed = seedi)\n",
    "    \n",
    "    # Cold start prediction using pre-trained weights\n",
    "    # Returns predictions, probabilities, and learned features\n",
    "    preds, preds_proba, feas = model.cold_start_predict(trainlist)\n",
    "    \n",
    "    # Calculate evaluation metrics\n",
    "    gied_prf.append(precision_recall_fscore_support(train_labels, preds, average = 'binary'))\n",
    "    gied_ap.append(average_precision_score(train_labels, preds_proba))"
   ]
  },
  {
   "cell_type": "markdown",
   "metadata": {},
   "source": [
    "## Step 14: Display Cold Start Precision, Recall, F1-Score Results\n",
    "\n",
    "Show the detailed performance metrics from cold start evaluation."
   ]
  },
  {
   "cell_type": "code",
   "execution_count": 14,
   "metadata": {},
   "outputs": [
    {
     "name": "stdout",
     "output_type": "stream",
     "text": [
      "[(0.9123376623376623, 0.9035369774919614, 0.9079159935379645, None), (0.9096774193548387, 0.9067524115755627, 0.9082125603864735, None), (0.939799331103679, 0.9035369774919614, 0.921311475409836, None), (0.9235880398671097, 0.8938906752411575, 0.9084967320261438, None), (0.9344827586206896, 0.8713826366559485, 0.9018302828618968, None)]\n"
     ]
    }
   ],
   "source": [
    "# Display precision, recall, F1-score results for all seed runs\n",
    "# Each tuple contains (precision, recall, f1_score, support)\n",
    "print(gied_prf)"
   ]
  },
  {
   "cell_type": "markdown",
   "metadata": {},
   "source": [
    "## Step 15: Display Cold Start Average Precision Results\n",
    "\n",
    "Show the average precision scores from cold start evaluation across all runs."
   ]
  },
  {
   "cell_type": "code",
   "execution_count": 15,
   "metadata": {},
   "outputs": [
    {
     "name": "stdout",
     "output_type": "stream",
     "text": [
      "[0.9094923306811694, 0.927512869425138, 0.9210954357224375, 0.9267385234915312, 0.9248027880636236]\n"
     ]
    }
   ],
   "source": [
    "# Display average precision scores for all seed runs\n",
    "# Average precision summarizes precision-recall curve performance\n",
    "print(gied_ap)"
   ]
  },
  {
   "cell_type": "markdown",
   "metadata": {},
   "source": [
    "# Stage 2 Demo: Full Training and Evaluation\n",
    "\n",
    "This stage demonstrates the complete training and evaluation pipeline with optimal threshold selection."
   ]
  },
  {
   "cell_type": "markdown",
   "metadata": {},
   "source": [
    "## Step 16: Define Threshold Optimization Function\n",
    "\n",
    "Implement a function to find the optimal classification threshold that maximizes F1-score on the training set."
   ]
  },
  {
   "cell_type": "code",
   "execution_count": 16,
   "metadata": {},
   "outputs": [],
   "source": [
    "def bf_search(labels, scores):\n",
    "    \"\"\"\n",
    "    Find the optimal threshold using the training set to maximize F1-score\n",
    "    \n",
    "    Args:\n",
    "        labels: True binary labels\n",
    "        scores: Predicted probability scores\n",
    "    \n",
    "    Returns:\n",
    "        tuple: Best (precision, recall, f1_score, support) metrics\n",
    "        float: Optimal threshold value\n",
    "    \"\"\"\n",
    "    m = (-1., -1., -1., None)  # Initialize best metrics\n",
    "    m_t = 0.0                  # Initialize best threshold\n",
    "    \n",
    "    # Try all unique score values as potential thresholds (excluding extremes)\n",
    "    for threshold in sorted(list(scores))[1:-1]:\n",
    "        # Calculate metrics for current threshold\n",
    "        target = precision_recall_fscore_support(labels, (scores > threshold).astype('int'), average = 'binary')\n",
    "        \n",
    "        # Update best threshold if F1-score improves\n",
    "        if target[2] > m[2]:\n",
    "            m_t = threshold\n",
    "            m = target\n",
    "    \n",
    "    print(m, m_t)\n",
    "    return m, m_t"
   ]
  },
  {
   "cell_type": "markdown",
   "metadata": {},
   "source": [
    "## Step 17: Full Training and Evaluation Pipeline\n",
    "\n",
    "Execute the complete training and evaluation process:\n",
    "1. Train the model on training data\n",
    "2. Find optimal threshold using training predictions\n",
    "3. Apply optimal threshold to test predictions\n",
    "4. Calculate final performance metrics"
   ]
  },
  {
   "cell_type": "code",
   "execution_count": 17,
   "metadata": {},
   "outputs": [
    {
     "name": "stdout",
     "output_type": "stream",
     "text": [
      "Epoch [60/60], Iter [90/96], total_loss: 0.0145\n"
     ]
    },
    {
     "data": {
      "image/png": "[encoded data removed]",
      "text/plain": [
       "<Figure size 1200x600 with 1 Axes>"
      ]
     },
     "metadata": {},
     "output_type": "display_data"
    },
    {
     "name": "stderr",
     "output_type": "stream",
     "text": [
      "100%|██████████| 96/96 [00:01<00:00, 68.12it/s]\n",
      "100%|██████████| 60/60 [01:24<00:00,  1.41s/it]\n",
      "100%|██████████| 96/96 [00:00<00:00, 405.67it/s]\n",
      "100%|██████████| 96/96 [00:00<00:00, 400.59it/s]\n"
     ]
    },
    {
     "name": "stdout",
     "output_type": "stream",
     "text": [
      "(0.9863013698630136, 0.9260450160771704, 0.9552238805970148, None) [0.40841758]\n"
     ]
    }
   ],
   "source": [
    "# Initialize lists to store evaluation metrics across multiple training runs\n",
    "gied_ap = []   # Average Precision scores\n",
    "gied_prf = []  # Precision, Recall, F1-score tuples\n",
    "\n",
    "# Run training and evaluation with 5 different random seeds\n",
    "for seedi in range(5):\n",
    "    # Model configuration parameters\n",
    "    NAME = 'FinalModel_OnlineBoutique'  # Model architecture name\n",
    "    LOSS = 'cross_entropy'              # Loss function\n",
    "    POOLING = 'attention'               # Graph pooling method\n",
    "    \n",
    "    # Initialize and configure the model\n",
    "    model = callSpatioDevNet(name = NAME, input_dim = INPUT_DIM, hidden_dim = HIDDEN_DIM, \n",
    "                           edge_attr_len = EDGE_ATTR_LEN, global_fea_len = GLOBAL_FEA_LEN, \n",
    "                           num_epochs = 60, nonlinear_scorer = False, act = False, \n",
    "                           pooling = POOLING, loss_func = LOSS, lr = 1e-3, seed = seedi)\n",
    "    \n",
    "    # Train the model on training data\n",
    "    # log_step=10: Print training progress every 10 epochs\n",
    "    # valid_proportion=0.0: Use all training data (no validation split)\n",
    "    model.fit(trainlist, log_step = 10, valid_proportion = 0.0)\n",
    "    \n",
    "    # Generate predictions on training and test data\n",
    "    preds, feas = model.predict(trainlist)      # Training predictions\n",
    "    test_preds, test_feas = model.predict(testlist)  # Test predictions\n",
    "    \n",
    "    # Find optimal threshold using training data\n",
    "    m, m_t = bf_search(train_labels, preds)\n",
    "    \n",
    "    # Apply optimal threshold to test predictions and calculate metrics\n",
    "    gied_prf.append(precision_recall_fscore_support(test_labels, (test_preds > m_t).astype('int'), average = 'binary'))\n",
    "    gied_ap.append(average_precision_score(test_labels, test_preds))"
   ]
  },
  {
   "cell_type": "markdown",
   "metadata": {},
   "source": [
    "## Step 18: Display Training Results\n",
    "\n",
    "Show the detailed performance metrics from the full training evaluation."
   ]
  },
  {
   "cell_type": "code",
   "execution_count": 18,
   "metadata": {},
   "outputs": [
    {
     "data": {
      "text/plain": [
       "[(0.9898305084745763, 0.926984126984127, 0.9573770491803278, None),\n",
       " (0.9930795847750865, 0.9111111111111111, 0.9503311258278145, None),\n",
       " (0.9896907216494846, 0.9142857142857143, 0.9504950495049506, None),\n",
       " (0.9930795847750865, 0.9111111111111111, 0.9503311258278145, None),\n",
       " (0.9930555555555556, 0.9079365079365079, 0.9485903814262022, None)]"
      ]
     },
     "execution_count": 18,
     "metadata": {},
     "output_type": "execute_result"
    }
   ],
   "source": [
    "# Display precision, recall, F1-score results for all training runs\n",
    "# Each tuple contains (precision, recall, f1_score, support)\n",
    "gied_prf"
   ]
  },
  {
   "cell_type": "markdown",
   "metadata": {},
   "source": [
    "## Step 19: Calculate Average Precision\n",
    "\n",
    "Compute the mean precision across all training runs for overall performance assessment."
   ]
  },
  {
   "cell_type": "code",
   "execution_count": 19,
   "metadata": {},
   "outputs": [
    {
     "data": {
      "text/plain": [
       "0.9917471910459579"
      ]
     },
     "execution_count": 19,
     "metadata": {},
     "output_type": "execute_result"
    }
   ],
   "source": [
    "# Calculate mean precision across all runs\n",
    "# Precision = True Positives / (True Positives + False Positives)\n",
    "np.mean([item[0] for item in gied_prf])"
   ]
  },
  {
   "cell_type": "markdown",
   "metadata": {},
   "source": [
    "## Step 20: Calculate Average Recall\n",
    "\n",
    "Compute the mean recall across all training runs for overall performance assessment."
   ]
  },
  {
   "cell_type": "code",
   "execution_count": 20,
   "metadata": {},
   "outputs": [
    {
     "data": {
      "text/plain": [
       "0.9142857142857143"
      ]
     },
     "execution_count": 20,
     "metadata": {},
     "output_type": "execute_result"
    }
   ],
   "source": [
    "# Calculate mean recall across all runs\n",
    "# Recall = True Positives / (True Positives + False Negatives)\n",
    "np.mean([item[1] for item in gied_prf])"
   ]
  },
  {
   "cell_type": "markdown",
   "metadata": {},
   "source": [
    "## Step 21: Calculate Average F1-Score\n",
    "\n",
    "Compute the mean F1-score across all training runs for overall performance assessment."
   ]
  },
  {
   "cell_type": "code",
   "execution_count": 21,
   "metadata": {},
   "outputs": [
    {
     "data": {
      "text/plain": [
       "0.951424946353422"
      ]
     },
     "execution_count": 21,
     "metadata": {},
     "output_type": "execute_result"
    }
   ],
   "source": [
    "# Calculate mean F1-score across all runs\n",
    "# F1-score = 2 * (Precision * Recall) / (Precision + Recall)\n",
    "np.mean([item[2] for item in gied_prf])"
   ]
  },
  {
   "cell_type": "markdown",
   "metadata": {},
   "source": [
    "## Step 22: Display Average Precision Scores\n",
    "\n",
    "Show the average precision scores from all training runs."
   ]
  },
  {
   "cell_type": "code",
   "execution_count": 22,
   "metadata": {},
   "outputs": [
    {
     "data": {
      "text/plain": [
       "[0.9779512147563546,\n",
       " 0.9778330250090081,\n",
       " 0.97582772743604,\n",
       " 0.9764976813700555,\n",
       " 0.9768707988217223]"
      ]
     },
     "execution_count": 22,
     "metadata": {},
     "output_type": "execute_result"
    }
   ],
   "source": [
    "# Display average precision scores for all training runs\n",
    "# Average precision summarizes the precision-recall curve\n",
    "gied_ap"
   ]
  },
  {
   "cell_type": "markdown",
   "metadata": {},
   "source": [
    "## Step 23: Calculate Overall Average Precision\n",
    "\n",
    "Compute the mean average precision across all training runs for final performance summary."
   ]
  },
  {
   "cell_type": "code",
   "execution_count": 23,
   "metadata": {},
   "outputs": [
    {
     "data": {
      "text/plain": [
       "0.9769960894786361"
      ]
     },
     "execution_count": 23,
     "metadata": {},
     "output_type": "execute_result"
    }
   ],
   "source": [
    "# Calculate mean average precision across all runs\n",
    "# This provides a single metric summarizing overall model performance\n",
    "np.mean(gied_ap)"
   ]
  }
 ],
 "metadata": {
  "kernelspec": {
   "display_name": "pilot",
   "language": "python",
   "name": "python3"
  },
  "language_info": {
   "codemirror_mode": {
    "name": "ipython",
    "version": 3
   },
   "file_extension": ".py",
   "mimetype": "text/x-python",
   "name": "python",
   "nbconvert_exporter": "python",
   "pygments_lexer": "ipython3",
   "version": "3.8.5"
  }
 },
 "nbformat": 4,
 "nbformat_minor": 4
}
